{
 "cells": [
  {
   "cell_type": "code",
   "execution_count": 15,
   "metadata": {},
   "outputs": [],
   "source": [
    "import nltk\n",
    "from nltk.corpus import wordnet\n",
    "#nltk.download('wordnet')\n",
    "#nltk.download('omw-1.4')\n",
    "import os\n",
    "os.environ['CURL_CA_BUNDLE'] = ''"
   ]
  },
  {
   "cell_type": "code",
   "execution_count": 16,
   "metadata": {},
   "outputs": [
    {
     "name": "stderr",
     "output_type": "stream",
     "text": [
      "Some weights of BertForTokenClassification were not initialized from the model checkpoint at pucpr-br/cardiobertpt and are newly initialized: ['classifier.bias', 'classifier.weight']\n",
      "You should probably TRAIN this model on a down-stream task to be able to use it for predictions and inference.\n",
      "Token indices sequence length is longer than the specified maximum sequence length for this model (918 > 512). Running this sequence through the model will result in indexing errors\n",
      "Some weights of BertForTokenClassification were not initialized from the model checkpoint at pucpr-br/cardiobertpt and are newly initialized: ['classifier.bias', 'classifier.weight']\n",
      "You should probably TRAIN this model on a down-stream task to be able to use it for predictions and inference.\n",
      "  1%|          | 11/1740 [00:02<05:16,  5.45it/s]"
     ]
    },
    {
     "name": "stdout",
     "output_type": "stream",
     "text": [
      "{'loss': 1.9276, 'learning_rate': 1.0000000000000002e-06, 'epoch': 0.17}\n"
     ]
    },
    {
     "name": "stderr",
     "output_type": "stream",
     "text": [
      "  1%|          | 21/1740 [00:04<05:11,  5.52it/s]"
     ]
    },
    {
     "name": "stdout",
     "output_type": "stream",
     "text": [
      "{'loss': 1.8403, 'learning_rate': 2.0000000000000003e-06, 'epoch': 0.34}\n"
     ]
    },
    {
     "name": "stderr",
     "output_type": "stream",
     "text": [
      "  2%|▏         | 31/1740 [00:05<05:10,  5.50it/s]"
     ]
    },
    {
     "name": "stdout",
     "output_type": "stream",
     "text": [
      "{'loss': 1.7646, 'learning_rate': 3e-06, 'epoch': 0.52}\n"
     ]
    },
    {
     "name": "stderr",
     "output_type": "stream",
     "text": [
      "  2%|▏         | 40/1740 [00:07<06:04,  4.67it/s]"
     ]
    },
    {
     "name": "stdout",
     "output_type": "stream",
     "text": [
      "{'loss': 1.7113, 'learning_rate': 4.000000000000001e-06, 'epoch': 0.69}\n"
     ]
    },
    {
     "name": "stderr",
     "output_type": "stream",
     "text": [
      "  3%|▎         | 50/1740 [00:10<07:01,  4.01it/s]"
     ]
    },
    {
     "name": "stdout",
     "output_type": "stream",
     "text": [
      "{'loss': 1.5668, 'learning_rate': 5e-06, 'epoch': 0.86}\n"
     ]
    },
    {
     "name": "stderr",
     "output_type": "stream",
     "text": [
      "                                                 \n",
      "  3%|▎         | 58/1740 [00:12<06:42,  4.18it/s]"
     ]
    },
    {
     "name": "stdout",
     "output_type": "stream",
     "text": [
      "{'eval_loss': 1.0296778678894043, 'eval_precision': 0.0, 'eval_recall': 0.0, 'eval_f1': 0.0, 'eval_runtime': 0.5792, 'eval_samples_per_second': 44.889, 'eval_steps_per_second': 12.086, 'epoch': 1.0}\n"
     ]
    },
    {
     "name": "stderr",
     "output_type": "stream",
     "text": [
      "  3%|▎         | 60/1740 [00:13<10:38,  2.63it/s]"
     ]
    },
    {
     "name": "stdout",
     "output_type": "stream",
     "text": [
      "{'loss': 1.5219, 'learning_rate': 6e-06, 'epoch': 1.03}\n"
     ]
    },
    {
     "name": "stderr",
     "output_type": "stream",
     "text": [
      "  4%|▍         | 70/1740 [00:15<07:03,  3.95it/s]"
     ]
    },
    {
     "name": "stdout",
     "output_type": "stream",
     "text": [
      "{'loss': 1.1691, 'learning_rate': 7.000000000000001e-06, 'epoch': 1.21}\n"
     ]
    },
    {
     "name": "stderr",
     "output_type": "stream",
     "text": [
      "  5%|▍         | 80/1740 [00:18<06:54,  4.00it/s]"
     ]
    },
    {
     "name": "stdout",
     "output_type": "stream",
     "text": [
      "{'loss': 1.4575, 'learning_rate': 8.000000000000001e-06, 'epoch': 1.38}\n"
     ]
    },
    {
     "name": "stderr",
     "output_type": "stream",
     "text": [
      "  5%|▌         | 90/1740 [00:20<06:50,  4.02it/s]"
     ]
    },
    {
     "name": "stdout",
     "output_type": "stream",
     "text": [
      "{'loss': 1.5613, 'learning_rate': 9e-06, 'epoch': 1.55}\n"
     ]
    },
    {
     "name": "stderr",
     "output_type": "stream",
     "text": [
      "  6%|▌         | 100/1740 [00:23<06:51,  3.98it/s]"
     ]
    },
    {
     "name": "stdout",
     "output_type": "stream",
     "text": [
      "{'loss': 1.2965, 'learning_rate': 1e-05, 'epoch': 1.72}\n"
     ]
    },
    {
     "name": "stderr",
     "output_type": "stream",
     "text": [
      "  6%|▋         | 110/1740 [00:25<06:46,  4.01it/s]"
     ]
    },
    {
     "name": "stdout",
     "output_type": "stream",
     "text": [
      "{'loss': 1.4915, 'learning_rate': 1.1000000000000001e-05, 'epoch': 1.9}\n"
     ]
    },
    {
     "name": "stderr",
     "output_type": "stream",
     "text": [
      "                                                  \n",
      "  7%|▋         | 116/1740 [00:27<06:23,  4.23it/s]"
     ]
    },
    {
     "name": "stdout",
     "output_type": "stream",
     "text": [
      "{'eval_loss': 0.8496466279029846, 'eval_precision': 0.0, 'eval_recall': 0.0, 'eval_f1': 0.0, 'eval_runtime': 0.4956, 'eval_samples_per_second': 52.46, 'eval_steps_per_second': 14.124, 'epoch': 2.0}\n"
     ]
    },
    {
     "name": "stderr",
     "output_type": "stream",
     "text": [
      "  7%|▋         | 120/1740 [00:28<08:06,  3.33it/s]"
     ]
    },
    {
     "name": "stdout",
     "output_type": "stream",
     "text": [
      "{'loss': 1.5224, 'learning_rate': 1.2e-05, 'epoch': 2.07}\n"
     ]
    },
    {
     "name": "stderr",
     "output_type": "stream",
     "text": [
      "  7%|▋         | 130/1740 [00:31<06:41,  4.01it/s]"
     ]
    },
    {
     "name": "stdout",
     "output_type": "stream",
     "text": [
      "{'loss': 1.0843, 'learning_rate': 1.3000000000000001e-05, 'epoch': 2.24}\n"
     ]
    },
    {
     "name": "stderr",
     "output_type": "stream",
     "text": [
      "  8%|▊         | 140/1740 [00:33<06:37,  4.02it/s]"
     ]
    },
    {
     "name": "stdout",
     "output_type": "stream",
     "text": [
      "{'loss': 1.3945, 'learning_rate': 1.4000000000000001e-05, 'epoch': 2.41}\n"
     ]
    },
    {
     "name": "stderr",
     "output_type": "stream",
     "text": [
      "  9%|▊         | 150/1740 [00:36<06:35,  4.02it/s]"
     ]
    },
    {
     "name": "stdout",
     "output_type": "stream",
     "text": [
      "{'loss': 1.3174, 'learning_rate': 1.5e-05, 'epoch': 2.59}\n"
     ]
    },
    {
     "name": "stderr",
     "output_type": "stream",
     "text": [
      "  9%|▉         | 160/1740 [00:38<06:36,  3.99it/s]"
     ]
    },
    {
     "name": "stdout",
     "output_type": "stream",
     "text": [
      "{'loss': 1.2999, 'learning_rate': 1.6000000000000003e-05, 'epoch': 2.76}\n"
     ]
    },
    {
     "name": "stderr",
     "output_type": "stream",
     "text": [
      " 10%|▉         | 170/1740 [00:41<06:34,  3.98it/s]"
     ]
    },
    {
     "name": "stdout",
     "output_type": "stream",
     "text": [
      "{'loss': 1.1103, 'learning_rate': 1.7000000000000003e-05, 'epoch': 2.93}\n"
     ]
    },
    {
     "name": "stderr",
     "output_type": "stream",
     "text": [
      "                                                  \n",
      " 10%|█         | 174/1740 [00:42<06:14,  4.18it/s]"
     ]
    },
    {
     "name": "stdout",
     "output_type": "stream",
     "text": [
      "{'eval_loss': 0.6756908893585205, 'eval_precision': 0.0, 'eval_recall': 0.0, 'eval_f1': 0.0, 'eval_runtime': 0.4951, 'eval_samples_per_second': 52.52, 'eval_steps_per_second': 14.14, 'epoch': 3.0}\n"
     ]
    },
    {
     "name": "stderr",
     "output_type": "stream",
     "text": [
      " 10%|█         | 180/1740 [00:44<07:12,  3.61it/s]"
     ]
    },
    {
     "name": "stdout",
     "output_type": "stream",
     "text": [
      "{'loss': 0.7649, 'learning_rate': 1.8e-05, 'epoch': 3.1}\n"
     ]
    },
    {
     "name": "stderr",
     "output_type": "stream",
     "text": [
      " 11%|█         | 190/1740 [00:46<06:31,  3.96it/s]"
     ]
    },
    {
     "name": "stdout",
     "output_type": "stream",
     "text": [
      "{'loss': 0.8948, 'learning_rate': 1.9e-05, 'epoch': 3.28}\n"
     ]
    },
    {
     "name": "stderr",
     "output_type": "stream",
     "text": [
      " 11%|█▏        | 200/1740 [00:49<06:21,  4.03it/s]"
     ]
    },
    {
     "name": "stdout",
     "output_type": "stream",
     "text": [
      "{'loss': 1.1913, 'learning_rate': 2e-05, 'epoch': 3.45}\n"
     ]
    },
    {
     "name": "stderr",
     "output_type": "stream",
     "text": [
      " 12%|█▏        | 210/1740 [00:51<06:24,  3.98it/s]"
     ]
    },
    {
     "name": "stdout",
     "output_type": "stream",
     "text": [
      "{'loss': 0.9349, 'learning_rate': 2.1e-05, 'epoch': 3.62}\n"
     ]
    },
    {
     "name": "stderr",
     "output_type": "stream",
     "text": [
      " 13%|█▎        | 220/1740 [00:54<06:20,  4.00it/s]"
     ]
    },
    {
     "name": "stdout",
     "output_type": "stream",
     "text": [
      "{'loss': 1.0271, 'learning_rate': 2.2000000000000003e-05, 'epoch': 3.79}\n"
     ]
    },
    {
     "name": "stderr",
     "output_type": "stream",
     "text": [
      " 13%|█▎        | 230/1740 [00:56<06:20,  3.97it/s]"
     ]
    },
    {
     "name": "stdout",
     "output_type": "stream",
     "text": [
      "{'loss': 0.6766, 'learning_rate': 2.3000000000000003e-05, 'epoch': 3.97}\n"
     ]
    },
    {
     "name": "stderr",
     "output_type": "stream",
     "text": [
      "                                                  \n",
      " 13%|█▎        | 232/1740 [00:57<06:00,  4.18it/s]"
     ]
    },
    {
     "name": "stdout",
     "output_type": "stream",
     "text": [
      "{'eval_loss': 0.6361767649650574, 'eval_precision': 0.22807017543859648, 'eval_recall': 0.29545454545454547, 'eval_f1': 0.25742574257425743, 'eval_runtime': 0.5008, 'eval_samples_per_second': 51.921, 'eval_steps_per_second': 13.979, 'epoch': 4.0}\n"
     ]
    },
    {
     "name": "stderr",
     "output_type": "stream",
     "text": [
      " 14%|█▍        | 240/1740 [00:59<06:35,  3.79it/s]"
     ]
    },
    {
     "name": "stdout",
     "output_type": "stream",
     "text": [
      "{'loss': 0.5892, 'learning_rate': 2.4e-05, 'epoch': 4.14}\n"
     ]
    },
    {
     "name": "stderr",
     "output_type": "stream",
     "text": [
      " 14%|█▍        | 250/1740 [01:02<06:12,  4.00it/s]"
     ]
    },
    {
     "name": "stdout",
     "output_type": "stream",
     "text": [
      "{'loss': 0.8174, 'learning_rate': 2.5e-05, 'epoch': 4.31}\n"
     ]
    },
    {
     "name": "stderr",
     "output_type": "stream",
     "text": [
      " 15%|█▍        | 260/1740 [01:04<06:13,  3.96it/s]"
     ]
    },
    {
     "name": "stdout",
     "output_type": "stream",
     "text": [
      "{'loss': 0.7399, 'learning_rate': 2.6000000000000002e-05, 'epoch': 4.48}\n"
     ]
    },
    {
     "name": "stderr",
     "output_type": "stream",
     "text": [
      " 16%|█▌        | 270/1740 [01:07<06:08,  3.99it/s]"
     ]
    },
    {
     "name": "stdout",
     "output_type": "stream",
     "text": [
      "{'loss': 0.624, 'learning_rate': 2.7000000000000002e-05, 'epoch': 4.66}\n"
     ]
    },
    {
     "name": "stderr",
     "output_type": "stream",
     "text": [
      " 16%|█▌        | 280/1740 [01:09<06:08,  3.96it/s]"
     ]
    },
    {
     "name": "stdout",
     "output_type": "stream",
     "text": [
      "{'loss': 1.0292, 'learning_rate': 2.8000000000000003e-05, 'epoch': 4.83}\n"
     ]
    },
    {
     "name": "stderr",
     "output_type": "stream",
     "text": [
      " 17%|█▋        | 290/1740 [01:12<05:45,  4.20it/s]"
     ]
    },
    {
     "name": "stdout",
     "output_type": "stream",
     "text": [
      "{'loss': 0.8361, 'learning_rate': 2.9e-05, 'epoch': 5.0}\n"
     ]
    },
    {
     "name": "stderr",
     "output_type": "stream",
     "text": [
      "                                                  \n",
      " 17%|█▋        | 290/1740 [01:12<05:45,  4.20it/s]"
     ]
    },
    {
     "name": "stdout",
     "output_type": "stream",
     "text": [
      "{'eval_loss': 0.8524258732795715, 'eval_precision': 0.16260162601626016, 'eval_recall': 0.45454545454545453, 'eval_f1': 0.23952095808383228, 'eval_runtime': 0.4919, 'eval_samples_per_second': 52.851, 'eval_steps_per_second': 14.229, 'epoch': 5.0}\n"
     ]
    },
    {
     "name": "stderr",
     "output_type": "stream",
     "text": [
      " 17%|█▋        | 300/1740 [01:15<06:09,  3.89it/s]"
     ]
    },
    {
     "name": "stdout",
     "output_type": "stream",
     "text": [
      "{'loss': 0.5163, 'learning_rate': 3e-05, 'epoch': 5.17}\n"
     ]
    },
    {
     "name": "stderr",
     "output_type": "stream",
     "text": [
      " 18%|█▊        | 310/1740 [01:17<05:54,  4.03it/s]"
     ]
    },
    {
     "name": "stdout",
     "output_type": "stream",
     "text": [
      "{'loss': 0.5219, 'learning_rate': 3.1e-05, 'epoch': 5.34}\n"
     ]
    },
    {
     "name": "stderr",
     "output_type": "stream",
     "text": [
      " 18%|█▊        | 320/1740 [01:20<05:54,  4.00it/s]"
     ]
    },
    {
     "name": "stdout",
     "output_type": "stream",
     "text": [
      "{'loss': 0.809, 'learning_rate': 3.2000000000000005e-05, 'epoch': 5.52}\n"
     ]
    },
    {
     "name": "stderr",
     "output_type": "stream",
     "text": [
      " 19%|█▉        | 330/1740 [01:22<05:53,  3.99it/s]"
     ]
    },
    {
     "name": "stdout",
     "output_type": "stream",
     "text": [
      "{'loss': 0.55, 'learning_rate': 3.3e-05, 'epoch': 5.69}\n"
     ]
    },
    {
     "name": "stderr",
     "output_type": "stream",
     "text": [
      " 20%|█▉        | 340/1740 [01:25<05:50,  3.99it/s]"
     ]
    },
    {
     "name": "stdout",
     "output_type": "stream",
     "text": [
      "{'loss': 0.6609, 'learning_rate': 3.4000000000000007e-05, 'epoch': 5.86}\n"
     ]
    },
    {
     "name": "stderr",
     "output_type": "stream",
     "text": [
      "                                                  \n",
      " 20%|██        | 348/1740 [01:27<05:28,  4.24it/s]"
     ]
    },
    {
     "name": "stdout",
     "output_type": "stream",
     "text": [
      "{'eval_loss': 0.6002753376960754, 'eval_precision': 0.352112676056338, 'eval_recall': 0.5681818181818182, 'eval_f1': 0.43478260869565216, 'eval_runtime': 0.4907, 'eval_samples_per_second': 52.989, 'eval_steps_per_second': 14.266, 'epoch': 6.0}\n"
     ]
    },
    {
     "name": "stderr",
     "output_type": "stream",
     "text": [
      " 20%|██        | 350/1740 [01:28<08:06,  2.86it/s]"
     ]
    },
    {
     "name": "stdout",
     "output_type": "stream",
     "text": [
      "{'loss': 0.6084, 'learning_rate': 3.5e-05, 'epoch': 6.03}\n"
     ]
    },
    {
     "name": "stderr",
     "output_type": "stream",
     "text": [
      " 21%|██        | 360/1740 [01:30<05:48,  3.96it/s]"
     ]
    },
    {
     "name": "stdout",
     "output_type": "stream",
     "text": [
      "{'loss': 0.3719, 'learning_rate': 3.6e-05, 'epoch': 6.21}\n"
     ]
    },
    {
     "name": "stderr",
     "output_type": "stream",
     "text": [
      " 21%|██▏       | 370/1740 [01:33<05:46,  3.95it/s]"
     ]
    },
    {
     "name": "stdout",
     "output_type": "stream",
     "text": [
      "{'loss': 0.7228, 'learning_rate': 3.7e-05, 'epoch': 6.38}\n"
     ]
    },
    {
     "name": "stderr",
     "output_type": "stream",
     "text": [
      " 22%|██▏       | 380/1740 [01:35<05:38,  4.02it/s]"
     ]
    },
    {
     "name": "stdout",
     "output_type": "stream",
     "text": [
      "{'loss': 0.2961, 'learning_rate': 3.8e-05, 'epoch': 6.55}\n"
     ]
    },
    {
     "name": "stderr",
     "output_type": "stream",
     "text": [
      " 22%|██▏       | 390/1740 [01:38<05:35,  4.03it/s]"
     ]
    },
    {
     "name": "stdout",
     "output_type": "stream",
     "text": [
      "{'loss': 0.9089, 'learning_rate': 3.9000000000000006e-05, 'epoch': 6.72}\n"
     ]
    },
    {
     "name": "stderr",
     "output_type": "stream",
     "text": [
      " 23%|██▎       | 400/1740 [01:40<05:39,  3.95it/s]"
     ]
    },
    {
     "name": "stdout",
     "output_type": "stream",
     "text": [
      "{'loss': 0.4825, 'learning_rate': 4e-05, 'epoch': 6.9}\n"
     ]
    },
    {
     "name": "stderr",
     "output_type": "stream",
     "text": [
      "                                                  \n",
      " 23%|██▎       | 406/1740 [01:42<05:14,  4.24it/s]"
     ]
    },
    {
     "name": "stdout",
     "output_type": "stream",
     "text": [
      "{'eval_loss': 0.6169435977935791, 'eval_precision': 0.3116883116883117, 'eval_recall': 0.5454545454545454, 'eval_f1': 0.396694214876033, 'eval_runtime': 0.4905, 'eval_samples_per_second': 53.005, 'eval_steps_per_second': 14.27, 'epoch': 7.0}\n"
     ]
    },
    {
     "name": "stderr",
     "output_type": "stream",
     "text": [
      " 24%|██▎       | 410/1740 [01:43<06:38,  3.34it/s]"
     ]
    },
    {
     "name": "stdout",
     "output_type": "stream",
     "text": [
      "{'loss': 0.5038, 'learning_rate': 4.1e-05, 'epoch': 7.07}\n"
     ]
    },
    {
     "name": "stderr",
     "output_type": "stream",
     "text": [
      " 24%|██▍       | 420/1740 [01:46<05:24,  4.07it/s]"
     ]
    },
    {
     "name": "stdout",
     "output_type": "stream",
     "text": [
      "{'loss': 0.2744, 'learning_rate': 4.2e-05, 'epoch': 7.24}\n"
     ]
    },
    {
     "name": "stderr",
     "output_type": "stream",
     "text": [
      " 25%|██▍       | 430/1740 [01:48<05:24,  4.04it/s]"
     ]
    },
    {
     "name": "stdout",
     "output_type": "stream",
     "text": [
      "{'loss': 0.2626, 'learning_rate': 4.3e-05, 'epoch': 7.41}\n"
     ]
    },
    {
     "name": "stderr",
     "output_type": "stream",
     "text": [
      " 25%|██▌       | 440/1740 [01:51<05:21,  4.04it/s]"
     ]
    },
    {
     "name": "stdout",
     "output_type": "stream",
     "text": [
      "{'loss': 0.3175, 'learning_rate': 4.4000000000000006e-05, 'epoch': 7.59}\n"
     ]
    },
    {
     "name": "stderr",
     "output_type": "stream",
     "text": [
      " 26%|██▌       | 450/1740 [01:53<05:17,  4.06it/s]"
     ]
    },
    {
     "name": "stdout",
     "output_type": "stream",
     "text": [
      "{'loss': 0.3566, 'learning_rate': 4.5e-05, 'epoch': 7.76}\n"
     ]
    },
    {
     "name": "stderr",
     "output_type": "stream",
     "text": [
      " 26%|██▋       | 460/1740 [01:56<05:15,  4.05it/s]"
     ]
    },
    {
     "name": "stdout",
     "output_type": "stream",
     "text": [
      "{'loss': 0.5758, 'learning_rate': 4.600000000000001e-05, 'epoch': 7.93}\n"
     ]
    },
    {
     "name": "stderr",
     "output_type": "stream",
     "text": [
      "                                                  \n",
      " 27%|██▋       | 464/1740 [01:57<04:53,  4.35it/s]"
     ]
    },
    {
     "name": "stdout",
     "output_type": "stream",
     "text": [
      "{'eval_loss': 0.9345985054969788, 'eval_precision': 0.16560509554140126, 'eval_recall': 0.5909090909090909, 'eval_f1': 0.25870646766169153, 'eval_runtime': 0.475, 'eval_samples_per_second': 54.734, 'eval_steps_per_second': 14.736, 'epoch': 8.0}\n"
     ]
    },
    {
     "name": "stderr",
     "output_type": "stream",
     "text": [
      " 27%|██▋       | 470/1740 [01:59<05:38,  3.76it/s]"
     ]
    },
    {
     "name": "stdout",
     "output_type": "stream",
     "text": [
      "{'loss': 0.3751, 'learning_rate': 4.7e-05, 'epoch': 8.1}\n"
     ]
    },
    {
     "name": "stderr",
     "output_type": "stream",
     "text": [
      " 28%|██▊       | 480/1740 [02:01<05:08,  4.08it/s]"
     ]
    },
    {
     "name": "stdout",
     "output_type": "stream",
     "text": [
      "{'loss': 0.4428, 'learning_rate': 4.8e-05, 'epoch': 8.28}\n"
     ]
    },
    {
     "name": "stderr",
     "output_type": "stream",
     "text": [
      " 28%|██▊       | 490/1740 [02:03<05:05,  4.10it/s]"
     ]
    },
    {
     "name": "stdout",
     "output_type": "stream",
     "text": [
      "{'loss': 0.6537, 'learning_rate': 4.9e-05, 'epoch': 8.45}\n"
     ]
    },
    {
     "name": "stderr",
     "output_type": "stream",
     "text": [
      " 29%|██▊       | 500/1740 [02:06<05:06,  4.05it/s]Checkpoint destination directory ./results\\checkpoint-500 already exists and is non-empty.Saving will proceed but saved results may be invalid.\n"
     ]
    },
    {
     "name": "stdout",
     "output_type": "stream",
     "text": [
      "{'loss': 0.2725, 'learning_rate': 5e-05, 'epoch': 8.62}\n"
     ]
    },
    {
     "name": "stderr",
     "output_type": "stream",
     "text": [
      " 29%|██▉       | 510/1740 [02:10<05:33,  3.68it/s]"
     ]
    },
    {
     "name": "stdout",
     "output_type": "stream",
     "text": [
      "{'loss': 0.2471, 'learning_rate': 4.959677419354839e-05, 'epoch': 8.79}\n"
     ]
    },
    {
     "name": "stderr",
     "output_type": "stream",
     "text": [
      " 30%|██▉       | 520/1740 [02:13<05:10,  3.93it/s]"
     ]
    },
    {
     "name": "stdout",
     "output_type": "stream",
     "text": [
      "{'loss': 0.3246, 'learning_rate': 4.9193548387096775e-05, 'epoch': 8.97}\n"
     ]
    },
    {
     "name": "stderr",
     "output_type": "stream",
     "text": [
      "                                                  \n",
      " 30%|███       | 522/1740 [02:14<04:51,  4.17it/s]"
     ]
    },
    {
     "name": "stdout",
     "output_type": "stream",
     "text": [
      "{'eval_loss': 0.7294791340827942, 'eval_precision': 0.2336448598130841, 'eval_recall': 0.5681818181818182, 'eval_f1': 0.3311258278145695, 'eval_runtime': 0.4871, 'eval_samples_per_second': 53.381, 'eval_steps_per_second': 14.372, 'epoch': 9.0}\n"
     ]
    },
    {
     "name": "stderr",
     "output_type": "stream",
     "text": [
      " 30%|███       | 530/1740 [02:16<05:15,  3.83it/s]"
     ]
    },
    {
     "name": "stdout",
     "output_type": "stream",
     "text": [
      "{'loss': 0.2177, 'learning_rate': 4.8790322580645164e-05, 'epoch': 9.14}\n"
     ]
    },
    {
     "name": "stderr",
     "output_type": "stream",
     "text": [
      " 31%|███       | 540/1740 [02:18<05:00,  3.99it/s]"
     ]
    },
    {
     "name": "stdout",
     "output_type": "stream",
     "text": [
      "{'loss': 0.3649, 'learning_rate': 4.8387096774193554e-05, 'epoch': 9.31}\n"
     ]
    },
    {
     "name": "stderr",
     "output_type": "stream",
     "text": [
      " 32%|███▏      | 550/1740 [02:21<04:59,  3.97it/s]"
     ]
    },
    {
     "name": "stdout",
     "output_type": "stream",
     "text": [
      "{'loss': 0.5142, 'learning_rate': 4.7983870967741937e-05, 'epoch': 9.48}\n"
     ]
    },
    {
     "name": "stderr",
     "output_type": "stream",
     "text": [
      " 32%|███▏      | 560/1740 [02:23<04:59,  3.94it/s]"
     ]
    },
    {
     "name": "stdout",
     "output_type": "stream",
     "text": [
      "{'loss': 0.259, 'learning_rate': 4.7580645161290326e-05, 'epoch': 9.66}\n"
     ]
    },
    {
     "name": "stderr",
     "output_type": "stream",
     "text": [
      " 33%|███▎      | 570/1740 [02:26<04:50,  4.02it/s]"
     ]
    },
    {
     "name": "stdout",
     "output_type": "stream",
     "text": [
      "{'loss': 0.2253, 'learning_rate': 4.7177419354838716e-05, 'epoch': 9.83}\n"
     ]
    },
    {
     "name": "stderr",
     "output_type": "stream",
     "text": [
      " 33%|███▎      | 580/1740 [02:28<04:33,  4.24it/s]"
     ]
    },
    {
     "name": "stdout",
     "output_type": "stream",
     "text": [
      "{'loss': 0.3187, 'learning_rate': 4.67741935483871e-05, 'epoch': 10.0}\n"
     ]
    },
    {
     "name": "stderr",
     "output_type": "stream",
     "text": [
      "                                                  \n",
      " 33%|███▎      | 580/1740 [02:29<04:33,  4.24it/s]"
     ]
    },
    {
     "name": "stdout",
     "output_type": "stream",
     "text": [
      "{'eval_loss': 0.6952219605445862, 'eval_precision': 0.313953488372093, 'eval_recall': 0.6136363636363636, 'eval_f1': 0.4153846153846154, 'eval_runtime': 0.4839, 'eval_samples_per_second': 53.73, 'eval_steps_per_second': 14.466, 'epoch': 10.0}\n"
     ]
    },
    {
     "name": "stderr",
     "output_type": "stream",
     "text": [
      " 34%|███▍      | 590/1740 [02:31<04:55,  3.89it/s]"
     ]
    },
    {
     "name": "stdout",
     "output_type": "stream",
     "text": [
      "{'loss': 0.1265, 'learning_rate': 4.637096774193548e-05, 'epoch': 10.17}\n"
     ]
    },
    {
     "name": "stderr",
     "output_type": "stream",
     "text": [
      " 34%|███▍      | 600/1740 [02:34<04:42,  4.03it/s]"
     ]
    },
    {
     "name": "stdout",
     "output_type": "stream",
     "text": [
      "{'loss': 0.1607, 'learning_rate': 4.596774193548387e-05, 'epoch': 10.34}\n"
     ]
    },
    {
     "name": "stderr",
     "output_type": "stream",
     "text": [
      " 35%|███▌      | 610/1740 [02:36<04:43,  3.99it/s]"
     ]
    },
    {
     "name": "stdout",
     "output_type": "stream",
     "text": [
      "{'loss': 0.2518, 'learning_rate': 4.556451612903226e-05, 'epoch': 10.52}\n"
     ]
    },
    {
     "name": "stderr",
     "output_type": "stream",
     "text": [
      " 36%|███▌      | 620/1740 [02:39<04:37,  4.04it/s]"
     ]
    },
    {
     "name": "stdout",
     "output_type": "stream",
     "text": [
      "{'loss': 0.2055, 'learning_rate': 4.516129032258064e-05, 'epoch': 10.69}\n"
     ]
    },
    {
     "name": "stderr",
     "output_type": "stream",
     "text": [
      " 36%|███▌      | 630/1740 [02:41<04:48,  3.85it/s]"
     ]
    },
    {
     "name": "stdout",
     "output_type": "stream",
     "text": [
      "{'loss': 0.2656, 'learning_rate': 4.475806451612903e-05, 'epoch': 10.86}\n"
     ]
    },
    {
     "name": "stderr",
     "output_type": "stream",
     "text": [
      "                                                  \n",
      " 37%|███▋      | 638/1740 [02:44<04:22,  4.20it/s]"
     ]
    },
    {
     "name": "stdout",
     "output_type": "stream",
     "text": [
      "{'eval_loss': 0.7151861786842346, 'eval_precision': 0.23076923076923078, 'eval_recall': 0.5454545454545454, 'eval_f1': 0.3243243243243243, 'eval_runtime': 0.4927, 'eval_samples_per_second': 52.772, 'eval_steps_per_second': 14.208, 'epoch': 11.0}\n"
     ]
    },
    {
     "name": "stderr",
     "output_type": "stream",
     "text": [
      " 37%|███▋      | 640/1740 [02:44<06:29,  2.83it/s]"
     ]
    },
    {
     "name": "stdout",
     "output_type": "stream",
     "text": [
      "{'loss': 0.2216, 'learning_rate': 4.435483870967742e-05, 'epoch': 11.03}\n"
     ]
    },
    {
     "name": "stderr",
     "output_type": "stream",
     "text": [
      " 37%|███▋      | 650/1740 [02:47<04:33,  3.98it/s]"
     ]
    },
    {
     "name": "stdout",
     "output_type": "stream",
     "text": [
      "{'loss': 0.2992, 'learning_rate': 4.395161290322581e-05, 'epoch': 11.21}\n"
     ]
    },
    {
     "name": "stderr",
     "output_type": "stream",
     "text": [
      " 38%|███▊      | 660/1740 [02:49<04:31,  3.98it/s]"
     ]
    },
    {
     "name": "stdout",
     "output_type": "stream",
     "text": [
      "{'loss': 0.151, 'learning_rate': 4.3548387096774194e-05, 'epoch': 11.38}\n"
     ]
    },
    {
     "name": "stderr",
     "output_type": "stream",
     "text": [
      " 39%|███▊      | 670/1740 [02:52<04:26,  4.01it/s]"
     ]
    },
    {
     "name": "stdout",
     "output_type": "stream",
     "text": [
      "{'loss': 0.1399, 'learning_rate': 4.3145161290322584e-05, 'epoch': 11.55}\n"
     ]
    },
    {
     "name": "stderr",
     "output_type": "stream",
     "text": [
      " 39%|███▉      | 680/1740 [02:54<04:26,  3.98it/s]"
     ]
    },
    {
     "name": "stdout",
     "output_type": "stream",
     "text": [
      "{'loss': 0.099, 'learning_rate': 4.2741935483870973e-05, 'epoch': 11.72}\n"
     ]
    },
    {
     "name": "stderr",
     "output_type": "stream",
     "text": [
      " 40%|███▉      | 690/1740 [02:57<04:21,  4.02it/s]"
     ]
    },
    {
     "name": "stdout",
     "output_type": "stream",
     "text": [
      "{'loss': 0.2278, 'learning_rate': 4.2338709677419356e-05, 'epoch': 11.9}\n"
     ]
    },
    {
     "name": "stderr",
     "output_type": "stream",
     "text": [
      "                                                  \n",
      " 40%|████      | 696/1740 [02:59<04:06,  4.24it/s]"
     ]
    },
    {
     "name": "stdout",
     "output_type": "stream",
     "text": [
      "{'eval_loss': 0.619787871837616, 'eval_precision': 0.3898305084745763, 'eval_recall': 0.5227272727272727, 'eval_f1': 0.4466019417475728, 'eval_runtime': 0.4805, 'eval_samples_per_second': 54.107, 'eval_steps_per_second': 14.567, 'epoch': 12.0}\n"
     ]
    },
    {
     "name": "stderr",
     "output_type": "stream",
     "text": [
      " 40%|████      | 700/1740 [03:00<05:09,  3.36it/s]"
     ]
    },
    {
     "name": "stdout",
     "output_type": "stream",
     "text": [
      "{'loss': 0.1522, 'learning_rate': 4.1935483870967746e-05, 'epoch': 12.07}\n"
     ]
    },
    {
     "name": "stderr",
     "output_type": "stream",
     "text": [
      " 41%|████      | 710/1740 [03:02<04:18,  3.99it/s]"
     ]
    },
    {
     "name": "stdout",
     "output_type": "stream",
     "text": [
      "{'loss': 0.2102, 'learning_rate': 4.1532258064516135e-05, 'epoch': 12.24}\n"
     ]
    },
    {
     "name": "stderr",
     "output_type": "stream",
     "text": [
      " 41%|████▏     | 720/1740 [03:05<04:16,  3.98it/s]"
     ]
    },
    {
     "name": "stdout",
     "output_type": "stream",
     "text": [
      "{'loss': 0.2182, 'learning_rate': 4.112903225806452e-05, 'epoch': 12.41}\n"
     ]
    },
    {
     "name": "stderr",
     "output_type": "stream",
     "text": [
      " 42%|████▏     | 730/1740 [03:07<04:15,  3.95it/s]"
     ]
    },
    {
     "name": "stdout",
     "output_type": "stream",
     "text": [
      "{'loss': 0.0835, 'learning_rate': 4.072580645161291e-05, 'epoch': 12.59}\n"
     ]
    },
    {
     "name": "stderr",
     "output_type": "stream",
     "text": [
      " 43%|████▎     | 740/1740 [03:10<04:08,  4.02it/s]"
     ]
    },
    {
     "name": "stdout",
     "output_type": "stream",
     "text": [
      "{'loss': 0.1824, 'learning_rate': 4.032258064516129e-05, 'epoch': 12.76}\n"
     ]
    },
    {
     "name": "stderr",
     "output_type": "stream",
     "text": [
      " 43%|████▎     | 750/1740 [03:12<04:05,  4.03it/s]"
     ]
    },
    {
     "name": "stdout",
     "output_type": "stream",
     "text": [
      "{'loss': 0.1744, 'learning_rate': 3.991935483870968e-05, 'epoch': 12.93}\n"
     ]
    },
    {
     "name": "stderr",
     "output_type": "stream",
     "text": [
      "                                                  \n",
      " 43%|████▎     | 754/1740 [03:14<03:51,  4.26it/s]"
     ]
    },
    {
     "name": "stdout",
     "output_type": "stream",
     "text": [
      "{'eval_loss': 0.9892253875732422, 'eval_precision': 0.20454545454545456, 'eval_recall': 0.6136363636363636, 'eval_f1': 0.3068181818181818, 'eval_runtime': 0.4758, 'eval_samples_per_second': 54.643, 'eval_steps_per_second': 14.711, 'epoch': 13.0}\n"
     ]
    },
    {
     "name": "stderr",
     "output_type": "stream",
     "text": [
      " 44%|████▎     | 760/1740 [03:15<04:27,  3.67it/s]"
     ]
    },
    {
     "name": "stdout",
     "output_type": "stream",
     "text": [
      "{'loss': 0.0813, 'learning_rate': 3.951612903225806e-05, 'epoch': 13.1}\n"
     ]
    },
    {
     "name": "stderr",
     "output_type": "stream",
     "text": [
      " 44%|████▍     | 770/1740 [03:18<04:03,  3.98it/s]"
     ]
    },
    {
     "name": "stdout",
     "output_type": "stream",
     "text": [
      "{'loss': 0.0737, 'learning_rate': 3.911290322580645e-05, 'epoch': 13.28}\n"
     ]
    },
    {
     "name": "stderr",
     "output_type": "stream",
     "text": [
      " 45%|████▍     | 780/1740 [03:20<03:57,  4.04it/s]"
     ]
    },
    {
     "name": "stdout",
     "output_type": "stream",
     "text": [
      "{'loss': 0.1561, 'learning_rate': 3.870967741935484e-05, 'epoch': 13.45}\n"
     ]
    },
    {
     "name": "stderr",
     "output_type": "stream",
     "text": [
      " 45%|████▌     | 790/1740 [03:23<03:59,  3.97it/s]"
     ]
    },
    {
     "name": "stdout",
     "output_type": "stream",
     "text": [
      "{'loss': 0.1329, 'learning_rate': 3.8306451612903224e-05, 'epoch': 13.62}\n"
     ]
    },
    {
     "name": "stderr",
     "output_type": "stream",
     "text": [
      " 46%|████▌     | 800/1740 [03:25<03:53,  4.02it/s]"
     ]
    },
    {
     "name": "stdout",
     "output_type": "stream",
     "text": [
      "{'loss': 0.179, 'learning_rate': 3.7903225806451614e-05, 'epoch': 13.79}\n"
     ]
    },
    {
     "name": "stderr",
     "output_type": "stream",
     "text": [
      " 47%|████▋     | 810/1740 [03:28<03:53,  3.99it/s]"
     ]
    },
    {
     "name": "stdout",
     "output_type": "stream",
     "text": [
      "{'loss': 0.1311, 'learning_rate': 3.7500000000000003e-05, 'epoch': 13.97}\n"
     ]
    },
    {
     "name": "stderr",
     "output_type": "stream",
     "text": [
      "                                                  \n",
      " 47%|████▋     | 812/1740 [03:29<03:43,  4.15it/s]"
     ]
    },
    {
     "name": "stdout",
     "output_type": "stream",
     "text": [
      "{'eval_loss': 0.9863414764404297, 'eval_precision': 0.225, 'eval_recall': 0.6136363636363636, 'eval_f1': 0.32926829268292684, 'eval_runtime': 0.4857, 'eval_samples_per_second': 53.526, 'eval_steps_per_second': 14.411, 'epoch': 14.0}\n"
     ]
    },
    {
     "name": "stderr",
     "output_type": "stream",
     "text": [
      " 47%|████▋     | 820/1740 [03:31<04:06,  3.74it/s]"
     ]
    },
    {
     "name": "stdout",
     "output_type": "stream",
     "text": [
      "{'loss': 0.075, 'learning_rate': 3.7096774193548386e-05, 'epoch': 14.14}\n"
     ]
    },
    {
     "name": "stderr",
     "output_type": "stream",
     "text": [
      " 48%|████▊     | 830/1740 [03:33<03:46,  4.01it/s]"
     ]
    },
    {
     "name": "stdout",
     "output_type": "stream",
     "text": [
      "{'loss': 0.1301, 'learning_rate': 3.6693548387096776e-05, 'epoch': 14.31}\n"
     ]
    },
    {
     "name": "stderr",
     "output_type": "stream",
     "text": [
      " 48%|████▊     | 840/1740 [03:36<03:44,  4.01it/s]"
     ]
    },
    {
     "name": "stdout",
     "output_type": "stream",
     "text": [
      "{'loss': 0.1025, 'learning_rate': 3.6290322580645165e-05, 'epoch': 14.48}\n"
     ]
    },
    {
     "name": "stderr",
     "output_type": "stream",
     "text": [
      " 49%|████▉     | 850/1740 [03:38<03:40,  4.04it/s]"
     ]
    },
    {
     "name": "stdout",
     "output_type": "stream",
     "text": [
      "{'loss': 0.066, 'learning_rate': 3.5887096774193555e-05, 'epoch': 14.66}\n"
     ]
    },
    {
     "name": "stderr",
     "output_type": "stream",
     "text": [
      " 49%|████▉     | 860/1740 [03:41<03:32,  4.14it/s]"
     ]
    },
    {
     "name": "stdout",
     "output_type": "stream",
     "text": [
      "{'loss': 0.0267, 'learning_rate': 3.548387096774194e-05, 'epoch': 14.83}\n"
     ]
    },
    {
     "name": "stderr",
     "output_type": "stream",
     "text": [
      " 50%|█████     | 870/1740 [03:43<03:21,  4.32it/s]"
     ]
    },
    {
     "name": "stdout",
     "output_type": "stream",
     "text": [
      "{'loss': 0.1221, 'learning_rate': 3.508064516129033e-05, 'epoch': 15.0}\n"
     ]
    },
    {
     "name": "stderr",
     "output_type": "stream",
     "text": [
      "                                                  \n",
      " 50%|█████     | 870/1740 [03:43<03:21,  4.32it/s]"
     ]
    },
    {
     "name": "stdout",
     "output_type": "stream",
     "text": [
      "{'eval_loss': 1.0682679414749146, 'eval_precision': 0.19708029197080293, 'eval_recall': 0.6136363636363636, 'eval_f1': 0.2983425414364641, 'eval_runtime': 0.4747, 'eval_samples_per_second': 54.774, 'eval_steps_per_second': 14.747, 'epoch': 15.0}\n"
     ]
    },
    {
     "name": "stderr",
     "output_type": "stream",
     "text": [
      " 51%|█████     | 880/1740 [03:46<03:34,  4.01it/s]"
     ]
    },
    {
     "name": "stdout",
     "output_type": "stream",
     "text": [
      "{'loss': 0.0655, 'learning_rate': 3.467741935483872e-05, 'epoch': 15.17}\n"
     ]
    },
    {
     "name": "stderr",
     "output_type": "stream",
     "text": [
      " 51%|█████     | 890/1740 [03:48<03:31,  4.02it/s]"
     ]
    },
    {
     "name": "stdout",
     "output_type": "stream",
     "text": [
      "{'loss': 0.0272, 'learning_rate': 3.427419354838709e-05, 'epoch': 15.34}\n"
     ]
    },
    {
     "name": "stderr",
     "output_type": "stream",
     "text": [
      " 52%|█████▏    | 900/1740 [03:51<03:27,  4.05it/s]"
     ]
    },
    {
     "name": "stdout",
     "output_type": "stream",
     "text": [
      "{'loss': 0.1033, 'learning_rate': 3.387096774193548e-05, 'epoch': 15.52}\n"
     ]
    },
    {
     "name": "stderr",
     "output_type": "stream",
     "text": [
      " 52%|█████▏    | 910/1740 [03:53<03:26,  4.03it/s]"
     ]
    },
    {
     "name": "stdout",
     "output_type": "stream",
     "text": [
      "{'loss': 0.0541, 'learning_rate': 3.346774193548387e-05, 'epoch': 15.69}\n"
     ]
    },
    {
     "name": "stderr",
     "output_type": "stream",
     "text": [
      " 53%|█████▎    | 920/1740 [03:56<03:20,  4.09it/s]"
     ]
    },
    {
     "name": "stdout",
     "output_type": "stream",
     "text": [
      "{'loss': 0.0585, 'learning_rate': 3.306451612903226e-05, 'epoch': 15.86}\n"
     ]
    },
    {
     "name": "stderr",
     "output_type": "stream",
     "text": [
      "                                                  \n",
      " 53%|█████▎    | 928/1740 [03:58<03:09,  4.28it/s]"
     ]
    },
    {
     "name": "stdout",
     "output_type": "stream",
     "text": [
      "{'eval_loss': 1.0650196075439453, 'eval_precision': 0.2153846153846154, 'eval_recall': 0.6363636363636364, 'eval_f1': 0.3218390804597701, 'eval_runtime': 0.4661, 'eval_samples_per_second': 55.783, 'eval_steps_per_second': 15.018, 'epoch': 16.0}\n"
     ]
    },
    {
     "name": "stderr",
     "output_type": "stream",
     "text": [
      " 53%|█████▎    | 930/1740 [03:59<04:38,  2.91it/s]"
     ]
    },
    {
     "name": "stdout",
     "output_type": "stream",
     "text": [
      "{'loss': 0.1151, 'learning_rate': 3.2661290322580644e-05, 'epoch': 16.03}\n"
     ]
    },
    {
     "name": "stderr",
     "output_type": "stream",
     "text": [
      " 54%|█████▍    | 940/1740 [04:01<03:20,  4.00it/s]"
     ]
    },
    {
     "name": "stdout",
     "output_type": "stream",
     "text": [
      "{'loss': 0.0949, 'learning_rate': 3.2258064516129034e-05, 'epoch': 16.21}\n"
     ]
    },
    {
     "name": "stderr",
     "output_type": "stream",
     "text": [
      " 55%|█████▍    | 950/1740 [04:04<03:15,  4.04it/s]"
     ]
    },
    {
     "name": "stdout",
     "output_type": "stream",
     "text": [
      "{'loss': 0.0155, 'learning_rate': 3.185483870967742e-05, 'epoch': 16.38}\n"
     ]
    },
    {
     "name": "stderr",
     "output_type": "stream",
     "text": [
      " 55%|█████▌    | 960/1740 [04:06<03:09,  4.13it/s]"
     ]
    },
    {
     "name": "stdout",
     "output_type": "stream",
     "text": [
      "{'loss': 0.1788, 'learning_rate': 3.1451612903225806e-05, 'epoch': 16.55}\n"
     ]
    },
    {
     "name": "stderr",
     "output_type": "stream",
     "text": [
      " 56%|█████▌    | 970/1740 [04:09<03:09,  4.05it/s]"
     ]
    },
    {
     "name": "stdout",
     "output_type": "stream",
     "text": [
      "{'loss': 0.0891, 'learning_rate': 3.1048387096774195e-05, 'epoch': 16.72}\n"
     ]
    },
    {
     "name": "stderr",
     "output_type": "stream",
     "text": [
      " 56%|█████▋    | 980/1740 [04:11<03:13,  3.93it/s]"
     ]
    },
    {
     "name": "stdout",
     "output_type": "stream",
     "text": [
      "{'loss': 0.0571, 'learning_rate': 3.0645161290322585e-05, 'epoch': 16.9}\n"
     ]
    },
    {
     "name": "stderr",
     "output_type": "stream",
     "text": [
      "                                                  \n",
      " 57%|█████▋    | 986/1740 [04:13<03:01,  4.15it/s]"
     ]
    },
    {
     "name": "stdout",
     "output_type": "stream",
     "text": [
      "{'eval_loss': 0.8830934166908264, 'eval_precision': 0.35443037974683544, 'eval_recall': 0.6363636363636364, 'eval_f1': 0.45528455284552843, 'eval_runtime': 0.4875, 'eval_samples_per_second': 53.331, 'eval_steps_per_second': 14.358, 'epoch': 17.0}\n"
     ]
    },
    {
     "name": "stderr",
     "output_type": "stream",
     "text": [
      " 57%|█████▋    | 990/1740 [04:14<03:46,  3.32it/s]"
     ]
    },
    {
     "name": "stdout",
     "output_type": "stream",
     "text": [
      "{'loss': 0.0533, 'learning_rate': 3.024193548387097e-05, 'epoch': 17.07}\n"
     ]
    },
    {
     "name": "stderr",
     "output_type": "stream",
     "text": [
      " 57%|█████▋    | 1000/1740 [04:17<03:05,  4.00it/s]Checkpoint destination directory ./results\\checkpoint-1000 already exists and is non-empty.Saving will proceed but saved results may be invalid.\n"
     ]
    },
    {
     "name": "stdout",
     "output_type": "stream",
     "text": [
      "{'loss': 0.0639, 'learning_rate': 2.9838709677419357e-05, 'epoch': 17.24}\n"
     ]
    },
    {
     "name": "stderr",
     "output_type": "stream",
     "text": [
      " 58%|█████▊    | 1010/1740 [04:21<03:19,  3.66it/s]"
     ]
    },
    {
     "name": "stdout",
     "output_type": "stream",
     "text": [
      "{'loss': 0.0078, 'learning_rate': 2.9435483870967743e-05, 'epoch': 17.41}\n"
     ]
    },
    {
     "name": "stderr",
     "output_type": "stream",
     "text": [
      " 59%|█████▊    | 1020/1740 [04:23<03:00,  3.98it/s]"
     ]
    },
    {
     "name": "stdout",
     "output_type": "stream",
     "text": [
      "{'loss': 0.0332, 'learning_rate': 2.9032258064516133e-05, 'epoch': 17.59}\n"
     ]
    },
    {
     "name": "stderr",
     "output_type": "stream",
     "text": [
      " 59%|█████▉    | 1030/1740 [04:26<02:59,  3.96it/s]"
     ]
    },
    {
     "name": "stdout",
     "output_type": "stream",
     "text": [
      "{'loss': 0.0516, 'learning_rate': 2.862903225806452e-05, 'epoch': 17.76}\n"
     ]
    },
    {
     "name": "stderr",
     "output_type": "stream",
     "text": [
      " 60%|█████▉    | 1040/1740 [04:28<02:55,  3.99it/s]"
     ]
    },
    {
     "name": "stdout",
     "output_type": "stream",
     "text": [
      "{'loss': 0.0984, 'learning_rate': 2.822580645161291e-05, 'epoch': 17.93}\n"
     ]
    },
    {
     "name": "stderr",
     "output_type": "stream",
     "text": [
      "                                                   \n",
      " 60%|██████    | 1044/1740 [04:30<02:46,  4.18it/s]"
     ]
    },
    {
     "name": "stdout",
     "output_type": "stream",
     "text": [
      "{'eval_loss': 0.9380397200584412, 'eval_precision': 0.34146341463414637, 'eval_recall': 0.6363636363636364, 'eval_f1': 0.4444444444444445, 'eval_runtime': 0.4804, 'eval_samples_per_second': 54.116, 'eval_steps_per_second': 14.57, 'epoch': 18.0}\n"
     ]
    },
    {
     "name": "stderr",
     "output_type": "stream",
     "text": [
      " 60%|██████    | 1050/1740 [04:31<03:10,  3.62it/s]"
     ]
    },
    {
     "name": "stdout",
     "output_type": "stream",
     "text": [
      "{'loss': 0.0214, 'learning_rate': 2.7822580645161288e-05, 'epoch': 18.1}\n"
     ]
    },
    {
     "name": "stderr",
     "output_type": "stream",
     "text": [
      " 61%|██████    | 1060/1740 [04:34<02:51,  3.98it/s]"
     ]
    },
    {
     "name": "stdout",
     "output_type": "stream",
     "text": [
      "{'loss': 0.0679, 'learning_rate': 2.7419354838709678e-05, 'epoch': 18.28}\n"
     ]
    },
    {
     "name": "stderr",
     "output_type": "stream",
     "text": [
      " 61%|██████▏   | 1070/1740 [04:36<02:48,  3.98it/s]"
     ]
    },
    {
     "name": "stdout",
     "output_type": "stream",
     "text": [
      "{'loss': 0.0142, 'learning_rate': 2.7016129032258064e-05, 'epoch': 18.45}\n"
     ]
    },
    {
     "name": "stderr",
     "output_type": "stream",
     "text": [
      " 62%|██████▏   | 1080/1740 [04:39<02:43,  4.02it/s]"
     ]
    },
    {
     "name": "stdout",
     "output_type": "stream",
     "text": [
      "{'loss': 0.0542, 'learning_rate': 2.661290322580645e-05, 'epoch': 18.62}\n"
     ]
    },
    {
     "name": "stderr",
     "output_type": "stream",
     "text": [
      " 63%|██████▎   | 1090/1740 [04:41<02:40,  4.05it/s]"
     ]
    },
    {
     "name": "stdout",
     "output_type": "stream",
     "text": [
      "{'loss': 0.0956, 'learning_rate': 2.620967741935484e-05, 'epoch': 18.79}\n"
     ]
    },
    {
     "name": "stderr",
     "output_type": "stream",
     "text": [
      " 63%|██████▎   | 1100/1740 [04:44<02:38,  4.03it/s]"
     ]
    },
    {
     "name": "stdout",
     "output_type": "stream",
     "text": [
      "{'loss': 0.0491, 'learning_rate': 2.5806451612903226e-05, 'epoch': 18.97}\n"
     ]
    },
    {
     "name": "stderr",
     "output_type": "stream",
     "text": [
      "                                                   \n",
      " 63%|██████▎   | 1102/1740 [04:45<02:30,  4.24it/s]"
     ]
    },
    {
     "name": "stdout",
     "output_type": "stream",
     "text": [
      "{'eval_loss': 0.8591141104698181, 'eval_precision': 0.3111111111111111, 'eval_recall': 0.6363636363636364, 'eval_f1': 0.417910447761194, 'eval_runtime': 0.49, 'eval_samples_per_second': 53.056, 'eval_steps_per_second': 14.284, 'epoch': 19.0}\n"
     ]
    },
    {
     "name": "stderr",
     "output_type": "stream",
     "text": [
      " 64%|██████▍   | 1110/1740 [04:47<02:43,  3.86it/s]"
     ]
    },
    {
     "name": "stdout",
     "output_type": "stream",
     "text": [
      "{'loss': 0.0361, 'learning_rate': 2.5403225806451615e-05, 'epoch': 19.14}\n"
     ]
    },
    {
     "name": "stderr",
     "output_type": "stream",
     "text": [
      " 64%|██████▍   | 1120/1740 [04:49<02:33,  4.03it/s]"
     ]
    },
    {
     "name": "stdout",
     "output_type": "stream",
     "text": [
      "{'loss': 0.0359, 'learning_rate': 2.5e-05, 'epoch': 19.31}\n"
     ]
    },
    {
     "name": "stderr",
     "output_type": "stream",
     "text": [
      " 65%|██████▍   | 1130/1740 [04:52<02:32,  4.01it/s]"
     ]
    },
    {
     "name": "stdout",
     "output_type": "stream",
     "text": [
      "{'loss': 0.0321, 'learning_rate': 2.4596774193548387e-05, 'epoch': 19.48}\n"
     ]
    },
    {
     "name": "stderr",
     "output_type": "stream",
     "text": [
      " 66%|██████▌   | 1140/1740 [04:54<02:29,  4.00it/s]"
     ]
    },
    {
     "name": "stdout",
     "output_type": "stream",
     "text": [
      "{'loss': 0.0401, 'learning_rate': 2.4193548387096777e-05, 'epoch': 19.66}\n"
     ]
    },
    {
     "name": "stderr",
     "output_type": "stream",
     "text": [
      " 66%|██████▌   | 1150/1740 [04:57<02:28,  3.97it/s]"
     ]
    },
    {
     "name": "stdout",
     "output_type": "stream",
     "text": [
      "{'loss': 0.0676, 'learning_rate': 2.3790322580645163e-05, 'epoch': 19.83}\n"
     ]
    },
    {
     "name": "stderr",
     "output_type": "stream",
     "text": [
      " 67%|██████▋   | 1160/1740 [04:59<02:17,  4.21it/s]"
     ]
    },
    {
     "name": "stdout",
     "output_type": "stream",
     "text": [
      "{'loss': 0.0558, 'learning_rate': 2.338709677419355e-05, 'epoch': 20.0}\n"
     ]
    },
    {
     "name": "stderr",
     "output_type": "stream",
     "text": [
      "                                                   \n",
      " 67%|██████▋   | 1160/1740 [05:00<02:17,  4.21it/s]"
     ]
    },
    {
     "name": "stdout",
     "output_type": "stream",
     "text": [
      "{'eval_loss': 0.9688170552253723, 'eval_precision': 0.3076923076923077, 'eval_recall': 0.6363636363636364, 'eval_f1': 0.4148148148148148, 'eval_runtime': 0.5011, 'eval_samples_per_second': 51.883, 'eval_steps_per_second': 13.969, 'epoch': 20.0}\n"
     ]
    },
    {
     "name": "stderr",
     "output_type": "stream",
     "text": [
      " 67%|██████▋   | 1170/1740 [05:02<02:25,  3.92it/s]"
     ]
    },
    {
     "name": "stdout",
     "output_type": "stream",
     "text": [
      "{'loss': 0.0605, 'learning_rate': 2.2983870967741935e-05, 'epoch': 20.17}\n"
     ]
    },
    {
     "name": "stderr",
     "output_type": "stream",
     "text": [
      " 68%|██████▊   | 1180/1740 [05:05<02:18,  4.04it/s]"
     ]
    },
    {
     "name": "stdout",
     "output_type": "stream",
     "text": [
      "{'loss': 0.0314, 'learning_rate': 2.258064516129032e-05, 'epoch': 20.34}\n"
     ]
    },
    {
     "name": "stderr",
     "output_type": "stream",
     "text": [
      " 68%|██████▊   | 1190/1740 [05:07<02:17,  4.01it/s]"
     ]
    },
    {
     "name": "stdout",
     "output_type": "stream",
     "text": [
      "{'loss': 0.0195, 'learning_rate': 2.217741935483871e-05, 'epoch': 20.52}\n"
     ]
    },
    {
     "name": "stderr",
     "output_type": "stream",
     "text": [
      " 69%|██████▉   | 1200/1740 [05:10<02:13,  4.04it/s]"
     ]
    },
    {
     "name": "stdout",
     "output_type": "stream",
     "text": [
      "{'loss': 0.0312, 'learning_rate': 2.1774193548387097e-05, 'epoch': 20.69}\n"
     ]
    },
    {
     "name": "stderr",
     "output_type": "stream",
     "text": [
      " 70%|██████▉   | 1210/1740 [05:12<02:15,  3.92it/s]"
     ]
    },
    {
     "name": "stdout",
     "output_type": "stream",
     "text": [
      "{'loss': 0.0036, 'learning_rate': 2.1370967741935487e-05, 'epoch': 20.86}\n"
     ]
    },
    {
     "name": "stderr",
     "output_type": "stream",
     "text": [
      "                                                   \n",
      " 70%|███████   | 1218/1740 [05:15<02:04,  4.20it/s]"
     ]
    },
    {
     "name": "stdout",
     "output_type": "stream",
     "text": [
      "{'eval_loss': 1.021860122680664, 'eval_precision': 0.2978723404255319, 'eval_recall': 0.6363636363636364, 'eval_f1': 0.40579710144927533, 'eval_runtime': 0.5054, 'eval_samples_per_second': 51.443, 'eval_steps_per_second': 13.85, 'epoch': 21.0}\n"
     ]
    },
    {
     "name": "stderr",
     "output_type": "stream",
     "text": [
      " 70%|███████   | 1220/1740 [05:15<03:05,  2.80it/s]"
     ]
    },
    {
     "name": "stdout",
     "output_type": "stream",
     "text": [
      "{'loss': 0.0714, 'learning_rate': 2.0967741935483873e-05, 'epoch': 21.03}\n"
     ]
    },
    {
     "name": "stderr",
     "output_type": "stream",
     "text": [
      " 71%|███████   | 1230/1740 [05:18<02:08,  3.97it/s]"
     ]
    },
    {
     "name": "stdout",
     "output_type": "stream",
     "text": [
      "{'loss': 0.0121, 'learning_rate': 2.056451612903226e-05, 'epoch': 21.21}\n"
     ]
    },
    {
     "name": "stderr",
     "output_type": "stream",
     "text": [
      " 71%|███████▏  | 1240/1740 [05:20<02:03,  4.04it/s]"
     ]
    },
    {
     "name": "stdout",
     "output_type": "stream",
     "text": [
      "{'loss': 0.0257, 'learning_rate': 2.0161290322580645e-05, 'epoch': 21.38}\n"
     ]
    },
    {
     "name": "stderr",
     "output_type": "stream",
     "text": [
      " 72%|███████▏  | 1250/1740 [05:23<02:01,  4.04it/s]"
     ]
    },
    {
     "name": "stdout",
     "output_type": "stream",
     "text": [
      "{'loss': 0.0192, 'learning_rate': 1.975806451612903e-05, 'epoch': 21.55}\n"
     ]
    },
    {
     "name": "stderr",
     "output_type": "stream",
     "text": [
      " 72%|███████▏  | 1260/1740 [05:25<01:58,  4.06it/s]"
     ]
    },
    {
     "name": "stdout",
     "output_type": "stream",
     "text": [
      "{'loss': 0.0207, 'learning_rate': 1.935483870967742e-05, 'epoch': 21.72}\n"
     ]
    },
    {
     "name": "stderr",
     "output_type": "stream",
     "text": [
      " 73%|███████▎  | 1270/1740 [05:28<01:56,  4.03it/s]"
     ]
    },
    {
     "name": "stdout",
     "output_type": "stream",
     "text": [
      "{'loss': 0.0306, 'learning_rate': 1.8951612903225807e-05, 'epoch': 21.9}\n"
     ]
    },
    {
     "name": "stderr",
     "output_type": "stream",
     "text": [
      "                                                   \n",
      " 73%|███████▎  | 1276/1740 [05:30<01:50,  4.21it/s]"
     ]
    },
    {
     "name": "stdout",
     "output_type": "stream",
     "text": [
      "{'eval_loss': 0.9818027019500732, 'eval_precision': 0.29473684210526313, 'eval_recall': 0.6363636363636364, 'eval_f1': 0.4028776978417266, 'eval_runtime': 0.4772, 'eval_samples_per_second': 54.48, 'eval_steps_per_second': 14.668, 'epoch': 22.0}\n"
     ]
    },
    {
     "name": "stderr",
     "output_type": "stream",
     "text": [
      " 74%|███████▎  | 1280/1740 [05:31<02:16,  3.37it/s]"
     ]
    },
    {
     "name": "stdout",
     "output_type": "stream",
     "text": [
      "{'loss': 0.0814, 'learning_rate': 1.8548387096774193e-05, 'epoch': 22.07}\n"
     ]
    },
    {
     "name": "stderr",
     "output_type": "stream",
     "text": [
      " 74%|███████▍  | 1290/1740 [05:33<01:52,  4.00it/s]"
     ]
    },
    {
     "name": "stdout",
     "output_type": "stream",
     "text": [
      "{'loss': 0.0231, 'learning_rate': 1.8145161290322583e-05, 'epoch': 22.24}\n"
     ]
    },
    {
     "name": "stderr",
     "output_type": "stream",
     "text": [
      " 75%|███████▍  | 1300/1740 [05:36<01:50,  3.99it/s]"
     ]
    },
    {
     "name": "stdout",
     "output_type": "stream",
     "text": [
      "{'loss': 0.0068, 'learning_rate': 1.774193548387097e-05, 'epoch': 22.41}\n"
     ]
    },
    {
     "name": "stderr",
     "output_type": "stream",
     "text": [
      " 75%|███████▌  | 1310/1740 [05:38<01:46,  4.05it/s]"
     ]
    },
    {
     "name": "stdout",
     "output_type": "stream",
     "text": [
      "{'loss': 0.0169, 'learning_rate': 1.733870967741936e-05, 'epoch': 22.59}\n"
     ]
    },
    {
     "name": "stderr",
     "output_type": "stream",
     "text": [
      " 76%|███████▌  | 1320/1740 [05:41<01:42,  4.09it/s]"
     ]
    },
    {
     "name": "stdout",
     "output_type": "stream",
     "text": [
      "{'loss': 0.0104, 'learning_rate': 1.693548387096774e-05, 'epoch': 22.76}\n"
     ]
    },
    {
     "name": "stderr",
     "output_type": "stream",
     "text": [
      " 76%|███████▋  | 1330/1740 [05:43<01:40,  4.10it/s]"
     ]
    },
    {
     "name": "stdout",
     "output_type": "stream",
     "text": [
      "{'loss': 0.0475, 'learning_rate': 1.653225806451613e-05, 'epoch': 22.93}\n"
     ]
    },
    {
     "name": "stderr",
     "output_type": "stream",
     "text": [
      "                                                   \n",
      " 77%|███████▋  | 1334/1740 [05:44<01:33,  4.32it/s]"
     ]
    },
    {
     "name": "stdout",
     "output_type": "stream",
     "text": [
      "{'eval_loss': 1.1071085929870605, 'eval_precision': 0.2857142857142857, 'eval_recall': 0.6363636363636364, 'eval_f1': 0.39436619718309857, 'eval_runtime': 0.4689, 'eval_samples_per_second': 55.452, 'eval_steps_per_second': 14.929, 'epoch': 23.0}\n"
     ]
    },
    {
     "name": "stderr",
     "output_type": "stream",
     "text": [
      " 77%|███████▋  | 1340/1740 [05:46<01:48,  3.70it/s]"
     ]
    },
    {
     "name": "stdout",
     "output_type": "stream",
     "text": [
      "{'loss': 0.0631, 'learning_rate': 1.6129032258064517e-05, 'epoch': 23.1}\n"
     ]
    },
    {
     "name": "stderr",
     "output_type": "stream",
     "text": [
      " 78%|███████▊  | 1350/1740 [05:48<01:35,  4.09it/s]"
     ]
    },
    {
     "name": "stdout",
     "output_type": "stream",
     "text": [
      "{'loss': 0.0072, 'learning_rate': 1.5725806451612903e-05, 'epoch': 23.28}\n"
     ]
    },
    {
     "name": "stderr",
     "output_type": "stream",
     "text": [
      " 78%|███████▊  | 1360/1740 [05:51<01:33,  4.08it/s]"
     ]
    },
    {
     "name": "stdout",
     "output_type": "stream",
     "text": [
      "{'loss': 0.018, 'learning_rate': 1.5322580645161292e-05, 'epoch': 23.45}\n"
     ]
    },
    {
     "name": "stderr",
     "output_type": "stream",
     "text": [
      " 79%|███████▊  | 1370/1740 [05:53<01:30,  4.11it/s]"
     ]
    },
    {
     "name": "stdout",
     "output_type": "stream",
     "text": [
      "{'loss': 0.049, 'learning_rate': 1.4919354838709679e-05, 'epoch': 23.62}\n"
     ]
    },
    {
     "name": "stderr",
     "output_type": "stream",
     "text": [
      " 79%|███████▉  | 1380/1740 [05:56<01:27,  4.11it/s]"
     ]
    },
    {
     "name": "stdout",
     "output_type": "stream",
     "text": [
      "{'loss': 0.0524, 'learning_rate': 1.4516129032258066e-05, 'epoch': 23.79}\n"
     ]
    },
    {
     "name": "stderr",
     "output_type": "stream",
     "text": [
      " 80%|███████▉  | 1390/1740 [05:58<01:25,  4.10it/s]"
     ]
    },
    {
     "name": "stdout",
     "output_type": "stream",
     "text": [
      "{'loss': 0.0378, 'learning_rate': 1.4112903225806454e-05, 'epoch': 23.97}\n"
     ]
    },
    {
     "name": "stderr",
     "output_type": "stream",
     "text": [
      "                                                   \n",
      " 80%|████████  | 1392/1740 [05:59<01:20,  4.30it/s]"
     ]
    },
    {
     "name": "stdout",
     "output_type": "stream",
     "text": [
      "{'eval_loss': 1.1138733625411987, 'eval_precision': 0.27450980392156865, 'eval_recall': 0.6363636363636364, 'eval_f1': 0.3835616438356165, 'eval_runtime': 0.4735, 'eval_samples_per_second': 54.908, 'eval_steps_per_second': 14.783, 'epoch': 24.0}\n"
     ]
    },
    {
     "name": "stderr",
     "output_type": "stream",
     "text": [
      " 80%|████████  | 1400/1740 [06:01<01:26,  3.93it/s]"
     ]
    },
    {
     "name": "stdout",
     "output_type": "stream",
     "text": [
      "{'loss': 0.0274, 'learning_rate': 1.3709677419354839e-05, 'epoch': 24.14}\n"
     ]
    },
    {
     "name": "stderr",
     "output_type": "stream",
     "text": [
      " 81%|████████  | 1410/1740 [06:04<01:20,  4.08it/s]"
     ]
    },
    {
     "name": "stdout",
     "output_type": "stream",
     "text": [
      "{'loss': 0.0061, 'learning_rate': 1.3306451612903225e-05, 'epoch': 24.31}\n"
     ]
    },
    {
     "name": "stderr",
     "output_type": "stream",
     "text": [
      " 82%|████████▏ | 1420/1740 [06:06<01:18,  4.09it/s]"
     ]
    },
    {
     "name": "stdout",
     "output_type": "stream",
     "text": [
      "{'loss': 0.035, 'learning_rate': 1.2903225806451613e-05, 'epoch': 24.48}\n"
     ]
    },
    {
     "name": "stderr",
     "output_type": "stream",
     "text": [
      " 82%|████████▏ | 1430/1740 [06:08<01:15,  4.09it/s]"
     ]
    },
    {
     "name": "stdout",
     "output_type": "stream",
     "text": [
      "{'loss': 0.0228, 'learning_rate': 1.25e-05, 'epoch': 24.66}\n"
     ]
    },
    {
     "name": "stderr",
     "output_type": "stream",
     "text": [
      " 83%|████████▎ | 1440/1740 [06:11<01:14,  4.02it/s]"
     ]
    },
    {
     "name": "stdout",
     "output_type": "stream",
     "text": [
      "{'loss': 0.0103, 'learning_rate': 1.2096774193548388e-05, 'epoch': 24.83}\n"
     ]
    },
    {
     "name": "stderr",
     "output_type": "stream",
     "text": [
      " 83%|████████▎ | 1450/1740 [06:13<01:08,  4.22it/s]"
     ]
    },
    {
     "name": "stdout",
     "output_type": "stream",
     "text": [
      "{'loss': 0.0312, 'learning_rate': 1.1693548387096775e-05, 'epoch': 25.0}\n"
     ]
    },
    {
     "name": "stderr",
     "output_type": "stream",
     "text": [
      "                                                   \n",
      " 83%|████████▎ | 1450/1740 [06:14<01:08,  4.22it/s]"
     ]
    },
    {
     "name": "stdout",
     "output_type": "stream",
     "text": [
      "{'eval_loss': 1.0665154457092285, 'eval_precision': 0.2857142857142857, 'eval_recall': 0.6363636363636364, 'eval_f1': 0.39436619718309857, 'eval_runtime': 0.4964, 'eval_samples_per_second': 52.382, 'eval_steps_per_second': 14.103, 'epoch': 25.0}\n"
     ]
    },
    {
     "name": "stderr",
     "output_type": "stream",
     "text": [
      " 84%|████████▍ | 1460/1740 [06:16<01:11,  3.91it/s]"
     ]
    },
    {
     "name": "stdout",
     "output_type": "stream",
     "text": [
      "{'loss': 0.0463, 'learning_rate': 1.129032258064516e-05, 'epoch': 25.17}\n"
     ]
    },
    {
     "name": "stderr",
     "output_type": "stream",
     "text": [
      " 84%|████████▍ | 1470/1740 [06:19<01:06,  4.05it/s]"
     ]
    },
    {
     "name": "stdout",
     "output_type": "stream",
     "text": [
      "{'loss': 0.0315, 'learning_rate': 1.0887096774193549e-05, 'epoch': 25.34}\n"
     ]
    },
    {
     "name": "stderr",
     "output_type": "stream",
     "text": [
      " 85%|████████▌ | 1480/1740 [06:21<01:04,  4.02it/s]"
     ]
    },
    {
     "name": "stdout",
     "output_type": "stream",
     "text": [
      "{'loss': 0.0431, 'learning_rate': 1.0483870967741936e-05, 'epoch': 25.52}\n"
     ]
    },
    {
     "name": "stderr",
     "output_type": "stream",
     "text": [
      " 86%|████████▌ | 1490/1740 [06:24<01:02,  3.99it/s]"
     ]
    },
    {
     "name": "stdout",
     "output_type": "stream",
     "text": [
      "{'loss': 0.0273, 'learning_rate': 1.0080645161290323e-05, 'epoch': 25.69}\n"
     ]
    },
    {
     "name": "stderr",
     "output_type": "stream",
     "text": [
      " 86%|████████▌ | 1500/1740 [06:26<01:00,  4.00it/s]Checkpoint destination directory ./results\\checkpoint-1500 already exists and is non-empty.Saving will proceed but saved results may be invalid.\n"
     ]
    },
    {
     "name": "stdout",
     "output_type": "stream",
     "text": [
      "{'loss': 0.0221, 'learning_rate': 9.67741935483871e-06, 'epoch': 25.86}\n"
     ]
    },
    {
     "name": "stderr",
     "output_type": "stream",
     "text": [
      "                                                   \n",
      " 87%|████████▋ | 1508/1740 [06:31<01:05,  3.56it/s]"
     ]
    },
    {
     "name": "stdout",
     "output_type": "stream",
     "text": [
      "{'eval_loss': 1.0774242877960205, 'eval_precision': 0.2978723404255319, 'eval_recall': 0.6363636363636364, 'eval_f1': 0.40579710144927533, 'eval_runtime': 0.5014, 'eval_samples_per_second': 51.854, 'eval_steps_per_second': 13.961, 'epoch': 26.0}\n"
     ]
    },
    {
     "name": "stderr",
     "output_type": "stream",
     "text": [
      " 87%|████████▋ | 1510/1740 [06:31<01:26,  2.66it/s]"
     ]
    },
    {
     "name": "stdout",
     "output_type": "stream",
     "text": [
      "{'loss': 0.0297, 'learning_rate': 9.274193548387097e-06, 'epoch': 26.03}\n"
     ]
    },
    {
     "name": "stderr",
     "output_type": "stream",
     "text": [
      " 87%|████████▋ | 1520/1740 [06:34<00:55,  3.93it/s]"
     ]
    },
    {
     "name": "stdout",
     "output_type": "stream",
     "text": [
      "{'loss': 0.0157, 'learning_rate': 8.870967741935484e-06, 'epoch': 26.21}\n"
     ]
    },
    {
     "name": "stderr",
     "output_type": "stream",
     "text": [
      " 88%|████████▊ | 1530/1740 [06:36<00:52,  4.04it/s]"
     ]
    },
    {
     "name": "stdout",
     "output_type": "stream",
     "text": [
      "{'loss': 0.0164, 'learning_rate': 8.46774193548387e-06, 'epoch': 26.38}\n"
     ]
    },
    {
     "name": "stderr",
     "output_type": "stream",
     "text": [
      " 89%|████████▊ | 1540/1740 [06:39<00:50,  3.97it/s]"
     ]
    },
    {
     "name": "stdout",
     "output_type": "stream",
     "text": [
      "{'loss': 0.0791, 'learning_rate': 8.064516129032258e-06, 'epoch': 26.55}\n"
     ]
    },
    {
     "name": "stderr",
     "output_type": "stream",
     "text": [
      " 89%|████████▉ | 1550/1740 [06:41<00:47,  4.02it/s]"
     ]
    },
    {
     "name": "stdout",
     "output_type": "stream",
     "text": [
      "{'loss': 0.0433, 'learning_rate': 7.661290322580646e-06, 'epoch': 26.72}\n"
     ]
    },
    {
     "name": "stderr",
     "output_type": "stream",
     "text": [
      " 90%|████████▉ | 1560/1740 [06:44<00:45,  3.97it/s]"
     ]
    },
    {
     "name": "stdout",
     "output_type": "stream",
     "text": [
      "{'loss': 0.0087, 'learning_rate': 7.258064516129033e-06, 'epoch': 26.9}\n"
     ]
    },
    {
     "name": "stderr",
     "output_type": "stream",
     "text": [
      "                                                   \n",
      " 90%|█████████ | 1566/1740 [06:46<00:41,  4.21it/s]"
     ]
    },
    {
     "name": "stdout",
     "output_type": "stream",
     "text": [
      "{'eval_loss': 1.1180119514465332, 'eval_precision': 0.27450980392156865, 'eval_recall': 0.6363636363636364, 'eval_f1': 0.3835616438356165, 'eval_runtime': 0.4799, 'eval_samples_per_second': 54.173, 'eval_steps_per_second': 14.585, 'epoch': 27.0}\n"
     ]
    },
    {
     "name": "stderr",
     "output_type": "stream",
     "text": [
      " 90%|█████████ | 1570/1740 [06:47<00:50,  3.35it/s]"
     ]
    },
    {
     "name": "stdout",
     "output_type": "stream",
     "text": [
      "{'loss': 0.0031, 'learning_rate': 6.854838709677419e-06, 'epoch': 27.07}\n"
     ]
    },
    {
     "name": "stderr",
     "output_type": "stream",
     "text": [
      " 91%|█████████ | 1580/1740 [06:49<00:39,  4.00it/s]"
     ]
    },
    {
     "name": "stdout",
     "output_type": "stream",
     "text": [
      "{'loss': 0.0177, 'learning_rate': 6.451612903225806e-06, 'epoch': 27.24}\n"
     ]
    },
    {
     "name": "stderr",
     "output_type": "stream",
     "text": [
      " 91%|█████████▏| 1590/1740 [06:52<00:37,  4.02it/s]"
     ]
    },
    {
     "name": "stdout",
     "output_type": "stream",
     "text": [
      "{'loss': 0.0116, 'learning_rate': 6.048387096774194e-06, 'epoch': 27.41}\n"
     ]
    },
    {
     "name": "stderr",
     "output_type": "stream",
     "text": [
      " 92%|█████████▏| 1600/1740 [06:54<00:35,  4.00it/s]"
     ]
    },
    {
     "name": "stdout",
     "output_type": "stream",
     "text": [
      "{'loss': 0.0284, 'learning_rate': 5.64516129032258e-06, 'epoch': 27.59}\n"
     ]
    },
    {
     "name": "stderr",
     "output_type": "stream",
     "text": [
      " 93%|█████████▎| 1610/1740 [06:57<00:32,  3.98it/s]"
     ]
    },
    {
     "name": "stdout",
     "output_type": "stream",
     "text": [
      "{'loss': 0.0211, 'learning_rate': 5.241935483870968e-06, 'epoch': 27.76}\n"
     ]
    },
    {
     "name": "stderr",
     "output_type": "stream",
     "text": [
      " 93%|█████████▎| 1620/1740 [06:59<00:30,  3.97it/s]"
     ]
    },
    {
     "name": "stdout",
     "output_type": "stream",
     "text": [
      "{'loss': 0.0522, 'learning_rate': 4.838709677419355e-06, 'epoch': 27.93}\n"
     ]
    },
    {
     "name": "stderr",
     "output_type": "stream",
     "text": [
      "                                                   \n",
      " 93%|█████████▎| 1624/1740 [07:01<00:27,  4.20it/s]"
     ]
    },
    {
     "name": "stdout",
     "output_type": "stream",
     "text": [
      "{'eval_loss': 1.0875545740127563, 'eval_precision': 0.30434782608695654, 'eval_recall': 0.6363636363636364, 'eval_f1': 0.411764705882353, 'eval_runtime': 0.5078, 'eval_samples_per_second': 51.201, 'eval_steps_per_second': 13.785, 'epoch': 28.0}\n"
     ]
    },
    {
     "name": "stderr",
     "output_type": "stream",
     "text": [
      " 94%|█████████▎| 1630/1740 [07:02<00:30,  3.63it/s]"
     ]
    },
    {
     "name": "stdout",
     "output_type": "stream",
     "text": [
      "{'loss': 0.0368, 'learning_rate': 4.435483870967742e-06, 'epoch': 28.1}\n"
     ]
    },
    {
     "name": "stderr",
     "output_type": "stream",
     "text": [
      " 94%|█████████▍| 1640/1740 [07:05<00:25,  3.96it/s]"
     ]
    },
    {
     "name": "stdout",
     "output_type": "stream",
     "text": [
      "{'loss': 0.0165, 'learning_rate': 4.032258064516129e-06, 'epoch': 28.28}\n"
     ]
    },
    {
     "name": "stderr",
     "output_type": "stream",
     "text": [
      " 95%|█████████▍| 1650/1740 [07:07<00:22,  4.05it/s]"
     ]
    },
    {
     "name": "stdout",
     "output_type": "stream",
     "text": [
      "{'loss': 0.0117, 'learning_rate': 3.6290322580645166e-06, 'epoch': 28.45}\n"
     ]
    },
    {
     "name": "stderr",
     "output_type": "stream",
     "text": [
      " 95%|█████████▌| 1660/1740 [07:10<00:19,  4.01it/s]"
     ]
    },
    {
     "name": "stdout",
     "output_type": "stream",
     "text": [
      "{'loss': 0.0323, 'learning_rate': 3.225806451612903e-06, 'epoch': 28.62}\n"
     ]
    },
    {
     "name": "stderr",
     "output_type": "stream",
     "text": [
      " 96%|█████████▌| 1670/1740 [07:12<00:17,  4.08it/s]"
     ]
    },
    {
     "name": "stdout",
     "output_type": "stream",
     "text": [
      "{'loss': 0.0311, 'learning_rate': 2.82258064516129e-06, 'epoch': 28.79}\n"
     ]
    },
    {
     "name": "stderr",
     "output_type": "stream",
     "text": [
      " 97%|█████████▋| 1680/1740 [07:15<00:15,  3.99it/s]"
     ]
    },
    {
     "name": "stdout",
     "output_type": "stream",
     "text": [
      "{'loss': 0.0333, 'learning_rate': 2.4193548387096776e-06, 'epoch': 28.97}\n"
     ]
    },
    {
     "name": "stderr",
     "output_type": "stream",
     "text": [
      "                                                   \n",
      " 97%|█████████▋| 1682/1740 [07:16<00:13,  4.26it/s]"
     ]
    },
    {
     "name": "stdout",
     "output_type": "stream",
     "text": [
      "{'eval_loss': 1.0670005083084106, 'eval_precision': 0.32558139534883723, 'eval_recall': 0.6363636363636364, 'eval_f1': 0.4307692307692308, 'eval_runtime': 0.4807, 'eval_samples_per_second': 54.087, 'eval_steps_per_second': 14.562, 'epoch': 29.0}\n"
     ]
    },
    {
     "name": "stderr",
     "output_type": "stream",
     "text": [
      " 97%|█████████▋| 1690/1740 [07:18<00:12,  3.86it/s]"
     ]
    },
    {
     "name": "stdout",
     "output_type": "stream",
     "text": [
      "{'loss': 0.0066, 'learning_rate': 2.0161290322580646e-06, 'epoch': 29.14}\n"
     ]
    },
    {
     "name": "stderr",
     "output_type": "stream",
     "text": [
      " 98%|█████████▊| 1700/1740 [07:20<00:09,  4.03it/s]"
     ]
    },
    {
     "name": "stdout",
     "output_type": "stream",
     "text": [
      "{'loss': 0.0427, 'learning_rate': 1.6129032258064516e-06, 'epoch': 29.31}\n"
     ]
    },
    {
     "name": "stderr",
     "output_type": "stream",
     "text": [
      " 98%|█████████▊| 1710/1740 [07:23<00:07,  4.04it/s]"
     ]
    },
    {
     "name": "stdout",
     "output_type": "stream",
     "text": [
      "{'loss': 0.0436, 'learning_rate': 1.2096774193548388e-06, 'epoch': 29.48}\n"
     ]
    },
    {
     "name": "stderr",
     "output_type": "stream",
     "text": [
      " 99%|█████████▉| 1720/1740 [07:25<00:04,  4.03it/s]"
     ]
    },
    {
     "name": "stdout",
     "output_type": "stream",
     "text": [
      "{'loss': 0.0004, 'learning_rate': 8.064516129032258e-07, 'epoch': 29.66}\n"
     ]
    },
    {
     "name": "stderr",
     "output_type": "stream",
     "text": [
      " 99%|█████████▉| 1730/1740 [07:28<00:02,  4.04it/s]"
     ]
    },
    {
     "name": "stdout",
     "output_type": "stream",
     "text": [
      "{'loss': 0.0144, 'learning_rate': 4.032258064516129e-07, 'epoch': 29.83}\n"
     ]
    },
    {
     "name": "stderr",
     "output_type": "stream",
     "text": [
      "100%|██████████| 1740/1740 [07:30<00:00,  4.23it/s]"
     ]
    },
    {
     "name": "stdout",
     "output_type": "stream",
     "text": [
      "{'loss': 0.0486, 'learning_rate': 0.0, 'epoch': 30.0}\n"
     ]
    },
    {
     "name": "stderr",
     "output_type": "stream",
     "text": [
      "                                                   \n",
      "100%|██████████| 1740/1740 [07:31<00:00,  3.86it/s]\n"
     ]
    },
    {
     "name": "stdout",
     "output_type": "stream",
     "text": [
      "{'eval_loss': 1.0522546768188477, 'eval_precision': 0.3373493975903614, 'eval_recall': 0.6363636363636364, 'eval_f1': 0.4409448818897638, 'eval_runtime': 0.5064, 'eval_samples_per_second': 51.346, 'eval_steps_per_second': 13.824, 'epoch': 30.0}\n",
      "{'train_runtime': 451.1051, 'train_samples_per_second': 15.362, 'train_steps_per_second': 3.857, 'train_loss': 0.32177342853144925, 'epoch': 30.0}\n",
      "      Coluna1  CD_PACIENTE  CD_ATENDIMENTO_novo        DH_DOCUMENTO  \\\n",
      "0           0      1092064               795807 2023-01-11 12:20:05   \n",
      "1           3      1091806               790465 2023-01-11 12:28:00   \n",
      "2           4       785747               795897 2023-01-13 00:06:38   \n",
      "3           7      1063053               801158 2023-01-14 10:51:29   \n",
      "4          15      1092391               801246 2023-01-15 18:22:00   \n",
      "...       ...          ...                  ...                 ...   \n",
      "1559    14683       731440              1237062 2023-12-26 13:10:00   \n",
      "1560    14689       823876              1237275 2023-12-26 12:47:00   \n",
      "1561    14690       807122              1236644 2023-12-26 08:58:00   \n",
      "1562    14692       585577              1236423 2023-12-26 08:00:00   \n",
      "1563    14696       962296              1237703 2023-12-26 19:15:00   \n",
      "\n",
      "                                DS_CAMPO  \\\n",
      "0               DS_ANTECEDENTES_PESSOAIS   \n",
      "1               DS_ANTECEDENTES_PESSOAIS   \n",
      "2               DS_ANTECEDENTES_PESSOAIS   \n",
      "3               DS_ANTECEDENTES_PESSOAIS   \n",
      "4     DESCRIÇÃO DOENÇAS CARDIOVASCULARES   \n",
      "...                                  ...   \n",
      "1559            DS_ANTECEDENTES_PESSOAIS   \n",
      "1560            DS_ANTECEDENTES_PESSOAIS   \n",
      "1561            DS_ANTECEDENTES_PESSOAIS   \n",
      "1562            DS_ANTECEDENTES_PESSOAIS   \n",
      "1563            DS_ANTECEDENTES_PESSOAIS   \n",
      "\n",
      "                                            DS_RESPOSTA  is_avc  \\\n",
      "0     AVCI (RELATA 05 COM SEQUELA EM CAMPO VISUAL - ...       1   \n",
      "1             HAS\\nAMAUROSE APÓS TRAUMA\\nAVC há 10 anos       1   \n",
      "2     HAS MAL CONTROLADA - DIAGNOSTICO HÁ 7 ANOS\\nDL...       1   \n",
      "3     - HAS\\n- OBESIDADE - IMC 48\\n- DM2\\n- AVCi EM ...       1   \n",
      "4                          NEGA ANTECEDENTES DE IAM/AVC       1   \n",
      "...                                                 ...     ...   \n",
      "1559  FIBROSE PULMONAR EM ACOMPANAHEMTNO NO HOSPITAL...       1   \n",
      "1560  MUITO ALTO RISCO CARDIOVASCULAR LDL &lt; 50\\nO...       1   \n",
      "1561  ICFEP (MCP RESTRITIVA PRIMÁRIA? MANOMETRIA COM...       1   \n",
      "1562  HAS\\nNega tabagismo ou etilismo\\nNega histório...       1   \n",
      "1563  1 - AVCi em 20/12/2021 - ATEROTROMBÓTICO? - SE...       1   \n",
      "\n",
      "      CD_ATENDIMENTO_antigo             DT_ALTA  Pre  Pos  \\\n",
      "0                    795150 2023-01-10 14:40:00  1.0  0.0   \n",
      "1                    790456 2023-01-06 00:02:00  1.0  0.0   \n",
      "2                    790433 2023-01-06 00:30:00  1.0  0.0   \n",
      "3                    801156 2023-01-14 03:27:00  1.0  0.0   \n",
      "4                    801244 2023-01-15 05:34:00  0.0  0.0   \n",
      "...                     ...                 ...  ...  ...   \n",
      "1559                1200018 2023-11-26 18:41:00  NaN  NaN   \n",
      "1560                 961438 2023-05-25 11:56:00  NaN  NaN   \n",
      "1561                 834468 2023-02-10 11:39:00  NaN  NaN   \n",
      "1562                1021685 2023-07-12 04:00:00  NaN  NaN   \n",
      "1563                 894161 2023-04-02 01:54:00  NaN  NaN   \n",
      "\n",
      "                                     Extracted_Entities  \n",
      "0     [([CLS], B-DT), (AV, B-C), (##CI, B-C), ((, I-...  \n",
      "1                        [([CLS], B-DT), ([SEP], B-DT)]  \n",
      "2                           [([CLS], B-DT), (##Ç, I-N)]  \n",
      "3     [(3, B-C), (MI, I-C), (##OM, I-C), (##AS, I-C)...  \n",
      "4     [([CLS], I-N), (NE, B-N), (##GA, B-N), (AN, I-...  \n",
      "...                                                 ...  \n",
      "1559                                                 []  \n",
      "1560                                                 []  \n",
      "1561                       [(##ED, B-DT), (##IN, I-DT)]  \n",
      "1562  [([CLS], I-N), (IA, I-N), (##M, I-N), (/, I-N)...  \n",
      "1563  [(20, B-C), (/, I-C), (12, I-C), (/, I-C), (20...  \n",
      "\n",
      "[1564 rows x 12 columns]\n"
     ]
    },
    {
     "name": "stderr",
     "output_type": "stream",
     "text": [
      "100%|██████████| 4/4 [00:00<00:00, 14.16it/s]"
     ]
    },
    {
     "name": "stdout",
     "output_type": "stream",
     "text": [
      "              precision    recall  f1-score   support\n",
      "\n",
      "           C       0.46      0.68      0.55        25\n",
      "          DT       0.37      0.47      0.41        15\n",
      "           N       0.80      1.00      0.89         4\n",
      "\n",
      "   micro avg       0.46      0.64      0.53        44\n",
      "   macro avg       0.54      0.72      0.62        44\n",
      "weighted avg       0.46      0.64      0.53        44\n",
      "\n",
      "\n",
      "Especificidade por classe:\n",
      "O: 0.98\n",
      "B-C: 0.46\n",
      "B-DT: 0.37\n",
      "B-N: 0.80\n",
      "I-C: 0.47\n",
      "I-DT: 0.44\n",
      "I-N: 0.75\n"
     ]
    },
    {
     "name": "stderr",
     "output_type": "stream",
     "text": [
      "\n"
     ]
    }
   ],
   "source": [
    "import os\n",
    "os.environ['CURL_CA_BUNDLE'] = ''\n",
    "import numpy as np\n",
    "import os\n",
    "import json\n",
    "import torch\n",
    "import random\n",
    "from torch.utils.data import Dataset, DataLoader\n",
    "from transformers import AutoTokenizer, AutoModelForTokenClassification, TrainingArguments, Trainer\n",
    "from sklearn.model_selection import train_test_split\n",
    "\n",
    "# Configurações iniciais\n",
    "os.environ['CUDA_LAUNCH_BLOCKING'] = \"1\"\n",
    "file_path = '/Users/Administrador/Documents/GitHub/CardioBERTpt/labels_anotados.json'\n",
    "max_len = 512\n",
    "batch_size = 4\n",
    "\n",
    "# Inicializando o tokenizer e o modelo\n",
    "tokenizer = AutoTokenizer.from_pretrained(\"pucpr-br/cardiobertpt\")\n",
    "model = AutoModelForTokenClassification.from_pretrained(\"pucpr-br/cardiobertpt\")\n",
    "\n",
    "\n",
    "def synonym_replacement(text, labels):\n",
    "    nltk.download('averaged_perceptron_tagger')\n",
    "    words = nltk.word_tokenize(text)\n",
    "    new_words = words.copy()\n",
    "    pos_tags = nltk.pos_tag(words)\n",
    "    \n",
    "    for i, word in enumerate(words):\n",
    "        if labels[i] == 'O':  # Only replace non-entity words\n",
    "            # Check part-of-speech tag and only replace nouns, adjectives, verbs, and adverbs\n",
    "            if pos_tags[i][1] in {'NN', 'JJ', 'VB', 'RB'}:\n",
    "                synonyms = get_synonyms(word)\n",
    "                if synonyms:\n",
    "                    synonym = random.choice(synonyms)\n",
    "                    new_words[i] = synonym\n",
    "    return ' '.join(new_words), labels\n",
    "\n",
    "def get_synonyms(word):\n",
    "    synonyms = set()\n",
    "    for syn in wordnet.synsets(word):\n",
    "        for lemma in syn.lemmas():\n",
    "            synonym = lemma.name().replace('_', ' ').replace('-', ' ').lower()\n",
    "            synonyms.add(synonym)\n",
    "    if word in synonyms:\n",
    "        synonyms.remove(word)  # Remove the original word\n",
    "    return list(synonyms)\n",
    "\n",
    "\n",
    "# Função para pré-processamento de dados\n",
    "def preprocess_data(data, tokenizer, augmentation=False):\n",
    "    texts, labels = [], []\n",
    "    for entry in data:\n",
    "        text, label = process_entry(entry, tokenizer)\n",
    "        if augmentation:\n",
    "            text, label = synonym_replacement(text, label)\n",
    "        texts.append(text)\n",
    "        labels.append(label)\n",
    "    return texts, labels\n",
    "\n",
    "def process_entry(entry, tokenizer):\n",
    "    text = entry['data']['text']\n",
    "    annotations = entry['annotations'][0]['result']\n",
    "    text_labels = ['O'] * len(text)\n",
    "    for annotation in annotations:\n",
    "        update_labels(annotation, text_labels)\n",
    "    aligned_labels = align_labels(text, text_labels, tokenizer)\n",
    "    return text, aligned_labels\n",
    "\n",
    "def update_labels(annotation, text_labels):\n",
    "    start, end = annotation['value']['start'], annotation['value']['end']\n",
    "    label = annotation['value']['labels'][0]\n",
    "    for i in range(start, end):\n",
    "        prefix = 'B-' if i == start else 'I-'\n",
    "        text_labels[i] = prefix + label\n",
    "\n",
    "def align_labels(text, text_labels, tokenizer):\n",
    "    tokenized_input = tokenizer(text, return_offsets_mapping=True)\n",
    "    word_ids = tokenized_input.word_ids()\n",
    "    return [-100 if i is None else text_labels[i] for i in word_ids]\n",
    "\n",
    "# Definição da classe CustomDataset\n",
    "class CustomDataset(Dataset):\n",
    "    def __init__(self, texts, labels, tokenizer, max_len, label_map):\n",
    "        self.texts = texts\n",
    "        self.labels = labels\n",
    "        self.tokenizer = tokenizer\n",
    "        self.max_len = max_len\n",
    "        self.label_map = label_map\n",
    "\n",
    "    def __len__(self):\n",
    "        return len(self.texts)\n",
    "\n",
    "    def __getitem__(self, idx):\n",
    "        text = self.texts[idx]\n",
    "        labels = self.labels[idx]\n",
    "\n",
    "        # Convertendo rótulos textuais para inteiros\n",
    "        converted_labels = [self.label_map.get(label, -100) for label in labels]\n",
    "\n",
    "        encoding = self.tokenizer.encode_plus(\n",
    "            text,\n",
    "            add_special_tokens=True,\n",
    "            max_length=self.max_len,\n",
    "            return_token_type_ids=False,\n",
    "            padding='max_length',\n",
    "            truncation=True,\n",
    "            return_attention_mask=True,\n",
    "            return_tensors='pt',\n",
    "        )\n",
    "\n",
    "        input_ids = encoding['input_ids'].flatten()\n",
    "        attention_mask = encoding['attention_mask'].flatten()\n",
    "\n",
    "        # Ajustar o comprimento dos rótulos e criar tensor\n",
    "        converted_labels += [-100] * (self.max_len - len(converted_labels))\n",
    "        return {\n",
    "            'input_ids': input_ids,\n",
    "            'attention_mask': attention_mask,\n",
    "            'labels': torch.tensor(converted_labels[:self.max_len], dtype=torch.long)\n",
    "        }\n",
    "\n",
    "\n",
    "# Carregando e pré-processando os dados com augmentation ativada\n",
    "with open(file_path, 'r', encoding='utf-8') as file:\n",
    "    data = json.load(file)\n",
    "texts, labels = preprocess_data(data, tokenizer, augmentation=False)\n",
    "\n",
    "# Dividindo dados em treino e validação\n",
    "train_texts, val_texts, train_labels, val_labels = train_test_split(texts, labels, test_size=0.1)\n",
    "\n",
    "# Mapeamento de rótulos\n",
    "label_map = {'O': 0, 'B-C': 1, 'B-DT': 2, 'B-N': 3, 'I-C': 4, 'I-DT': 5, 'I-N': 6}\n",
    "train_dataset = CustomDataset(train_texts, train_labels, tokenizer, max_len, label_map)\n",
    "validation_dataset = CustomDataset(val_texts, val_labels, tokenizer, max_len, label_map)\n",
    "\n",
    "\n",
    "model = AutoModelForTokenClassification.from_pretrained(\"pucpr-br/cardiobertpt\", num_labels=len(label_map))\n",
    "\n",
    "label_map_reverse = {v: k for k, v in label_map.items()}\n",
    "\n",
    "from seqeval.metrics import precision_score, recall_score, f1_score\n",
    "\n",
    "def compute_metrics(p):\n",
    "    predictions, labels = p\n",
    "    predictions = np.argmax(predictions, axis=2)\n",
    "\n",
    "    # Converte os índices de previsões para rótulos de texto\n",
    "    true_predictions = [\n",
    "        [label_map_reverse[p] for (p, l) in zip(prediction, label) if l != -100]\n",
    "        for prediction, label in zip(predictions, labels)\n",
    "    ]\n",
    "    true_labels = [\n",
    "        [label_map_reverse[l] for (p, l) in zip(prediction, label) if l != -100]\n",
    "        for prediction, label in zip(predictions, labels)\n",
    "    ]\n",
    "\n",
    "    # Calcula as métricas usando seqeval\n",
    "    return {\n",
    "        \"precision\": precision_score(true_labels, true_predictions),\n",
    "        \"recall\": recall_score(true_labels, true_predictions),\n",
    "        \"f1\": f1_score(true_labels, true_predictions),\n",
    "    }\n",
    "\n",
    "# Restante do código...\n",
    "\n",
    "training_args = TrainingArguments(\n",
    "    output_dir='./results',\n",
    "    num_train_epochs=30,\n",
    "    per_device_train_batch_size=batch_size,\n",
    "    per_device_eval_batch_size=batch_size,\n",
    "    warmup_steps=500,\n",
    "    weight_decay=0.01,\n",
    "    logging_dir='./logs',\n",
    "    logging_steps=10,\n",
    "    evaluation_strategy=\"epoch\",  # Adicione esta linha para avaliar no final de cada época\n",
    ")\n",
    "\n",
    "trainer = Trainer(\n",
    "    model=model,\n",
    "    args=training_args,\n",
    "    train_dataset=train_dataset,\n",
    "    eval_dataset=validation_dataset,\n",
    "    compute_metrics=compute_metrics  # Você precisará definir uma função de métricas\n",
    ")\n",
    "trainer.train()\n",
    "\n",
    "\n",
    "# Caminho para salvar o modelo e o tokenizer\n",
    "model_save_path = \"/Users/Administrador/Documents/GitHub/CardioBERTpt/model\"\n",
    "\n",
    "# Salvar modelo e tokenizer\n",
    "model.save_pretrained(model_save_path)\n",
    "tokenizer.save_pretrained(model_save_path)\n",
    "import pandas as pd\n",
    "\n",
    "# Substitua com o caminho do seu arquivo, se necessário\n",
    "df = pd.read_excel(\"/Users/Administrador/Documents/GitHub/ENTClinPT/df_tropo_avc_shig_27.12.2023.xlsx\")\n",
    "\n",
    "# Vamos assumir que a coluna com os textos é 'DS_RESPOSTA'\n",
    "textos = df['DS_RESPOSTA'].tolist()\n",
    "from transformers import AutoTokenizer, AutoModelForTokenClassification\n",
    "\n",
    "tokenizer = AutoTokenizer.from_pretrained(model_save_path)\n",
    "max_len = 512  # Definido durante o treinamento\n",
    "\n",
    "encoded_texts = [tokenizer.encode(text, max_length=max_len, truncation=True, return_tensors=\"pt\") for text in textos]\n",
    "# Carregue o modelo treinado (substitua pelo caminho do seu modelo se estiver salvando localmente)\n",
    "model = AutoModelForTokenClassification.from_pretrained(model_save_path)\n",
    "\n",
    "model.eval()  # Colocar o modelo em modo de avaliação\n",
    "\n",
    "predictions = []\n",
    "for encoded_text in encoded_texts:\n",
    "    with torch.no_grad():\n",
    "        output = model(encoded_text)\n",
    "        predictions.append(output.logits.argmax(dim=-1))\n",
    "import pandas as pd\n",
    "\n",
    "# Converter os IDs dos rótulos de volta para rótulos textuais\n",
    "label_map_reverse = {v: k for k, v in label_map.items()}\n",
    "\n",
    "# Certifique-se de que df é o seu DataFrame\n",
    "# Inicialize a coluna Extracted_Entities se ela não existir\n",
    "if 'Extracted_Entities' not in df.columns:\n",
    "    df['Extracted_Entities'] = pd.NA\n",
    "\n",
    "for index, row in df.iterrows():\n",
    "    # Extrair o texto da coluna DS_RESPOSTA\n",
    "    text = row['DS_RESPOSTA']\n",
    "\n",
    "    # Processar o texto\n",
    "    inputs = tokenizer(text, padding=True, truncation=True, max_length=max_len, return_tensors=\"pt\")\n",
    "\n",
    "    # Fazer previsões\n",
    "    outputs = model(**inputs)\n",
    "    predictions = outputs.logits.argmax(dim=-1)\n",
    "\n",
    "    # Extrair entidades\n",
    "    def extract_entities(predictions, input_ids, tokenizer):\n",
    "        tokens = tokenizer.convert_ids_to_tokens(input_ids.squeeze().tolist())\n",
    "        labels = predictions.squeeze().tolist()\n",
    "        entities = []\n",
    "        for idx, label_id in enumerate(labels):\n",
    "            label = label_map_reverse.get(label_id)\n",
    "            if label and label != \"O\":\n",
    "                entities.append((tokens[idx], label))\n",
    "        return entities\n",
    "\n",
    "    # Aplicar a função de extração de entidades\n",
    "    extracted_entities = extract_entities(predictions, inputs['input_ids'], tokenizer)\n",
    "\n",
    "    # Adicionar as entidades extraídas ao DataFrame\n",
    "    df.at[index, 'Extracted_Entities'] = extracted_entities\n",
    "\n",
    "# Exibir o DataFrame\n",
    "print(df)\n",
    "df.to_csv('tokens.csv')\n",
    "\n",
    "from sklearn.metrics import confusion_matrix, precision_recall_fscore_support\n",
    "from transformers import AutoModelForTokenClassification, TrainingArguments, Trainer\n",
    "from seqeval.metrics import classification_report\n",
    "from seqeval.scheme import IOB2\n",
    "import numpy as np\n",
    "\n",
    "# Isso deve ser uma lista ou um dicionário com chaves numéricas.\n",
    "label_list = ['O', 'B-C', 'B-DT', 'B-N', 'I-C', 'I-DT', 'I-N']\n",
    "\n",
    "# Inicialize o Trainer\n",
    "trainer = Trainer(model=model)\n",
    "\n",
    "# Fazer previsões no conjunto de validação\n",
    "predictions, labels, _ = trainer.predict(validation_dataset)\n",
    "\n",
    "# As previsões estão no formato logits, você precisa aplicar argmax para obter os IDs das previsões\n",
    "predictions = np.argmax(predictions, axis=2)\n",
    "\n",
    "# Converter os IDs das previsões e rótulos para os rótulos textuais\n",
    "def align_predictions(predictions, label_ids):\n",
    "    preds = [[label_list[p] for (p, l) in zip(prediction, label) if l != -100] for prediction, label in zip(predictions, label_ids)]\n",
    "    true_labels = [[label_list[l] for (p, l) in zip(prediction, label) if l != -100] for prediction, label in zip(predictions, label_ids)]\n",
    "    return preds, true_labels\n",
    "\n",
    "# Obter previsões e rótulos verdadeiros alinhados\n",
    "preds, true_labels = align_predictions(predictions, labels)\n",
    "\n",
    "# Use seqeval para calcular as métricas\n",
    "report = classification_report(true_labels, preds, mode='strict', scheme=IOB2)\n",
    "\n",
    "# Gerar matriz de confusão\n",
    "flat_preds = [p for sublist in preds for p in sublist]\n",
    "flat_true_labels = [l for sublist in true_labels for l in sublist]\n",
    "\n",
    "# Gerar matriz de confusão\n",
    "conf_matrix = confusion_matrix(flat_true_labels, flat_preds, labels=label_list)\n",
    "\n",
    "# Calcular especificidade\n",
    "specificity_list = []\n",
    "for i, label in enumerate(label_list):\n",
    "    tn = conf_matrix[i,i]\n",
    "    fp = conf_matrix[:,i].sum() - tn\n",
    "    fn = conf_matrix[i,:].sum() - tn\n",
    "    specificity = tn / (tn + fp) if tn + fp else 0\n",
    "    specificity_list.append(specificity)\n",
    "\n",
    "# Calcula precisão, recall e f1-score\n",
    "precision, recall, f1, _ = precision_recall_fscore_support(flat_true_labels, flat_preds, labels=label_list)\n",
    "\n",
    "# Adicione especificidade ao relatório\n",
    "print(report)\n",
    "print(\"\\nEspecificidade por classe:\")\n",
    "for i, label in enumerate(label_list):\n",
    "    print(f\"{label}: {specificity_list[i]:.2f}\")\n"
   ]
  },
  {
   "cell_type": "code",
   "execution_count": 17,
   "metadata": {},
   "outputs": [
    {
     "name": "stdout",
     "output_type": "stream",
     "text": [
      "              precision    recall  f1-score   support\n",
      "\n",
      "           C       0.46      0.68      0.55        25\n",
      "          DT       0.37      0.47      0.41        15\n",
      "           N       0.80      1.00      0.89         4\n",
      "\n",
      "   micro avg       0.46      0.64      0.53        44\n",
      "   macro avg       0.54      0.72      0.62        44\n",
      "weighted avg       0.46      0.64      0.53        44\n",
      "\n"
     ]
    }
   ],
   "source": [
    "print(report)"
   ]
  },
  {
   "cell_type": "code",
   "execution_count": 18,
   "metadata": {},
   "outputs": [],
   "source": [
    "df.to_csv('tokens40.csv', index=False)"
   ]
  }
 ],
 "metadata": {
  "kernelspec": {
   "display_name": "Python 3",
   "language": "python",
   "name": "python3"
  },
  "language_info": {
   "codemirror_mode": {
    "name": "ipython",
    "version": 3
   },
   "file_extension": ".py",
   "mimetype": "text/x-python",
   "name": "python",
   "nbconvert_exporter": "python",
   "pygments_lexer": "ipython3",
   "version": "3.9.0"
  }
 },
 "nbformat": 4,
 "nbformat_minor": 2
}
